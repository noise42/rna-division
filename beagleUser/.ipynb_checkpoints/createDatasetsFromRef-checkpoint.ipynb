{
 "cells": [
  {
   "cell_type": "code",
   "execution_count": 2,
   "metadata": {
    "collapsed": false
   },
   "outputs": [
    {
     "data": {
      "text/plain": [
       "'takes the refAligns folder and extrapolates the matching pairs\\ntwo files for each ref will be created, to be used with the twosets version of beagle\\n'"
      ]
     },
     "execution_count": 2,
     "metadata": {},
     "output_type": "execute_result"
    }
   ],
   "source": [
    "\"\"\"takes the refAligns folder and extrapolates the matching pairs\n",
    "two files for each ref will be created, to be used with the twosets version of beagle\n",
    "\"\"\""
   ]
  },
  {
   "cell_type": "code",
   "execution_count": 3,
   "metadata": {
    "collapsed": true
   },
   "outputs": [],
   "source": [
    "import os"
   ]
  },
  {
   "cell_type": "code",
   "execution_count": 6,
   "metadata": {
    "collapsed": false
   },
   "outputs": [
    {
     "name": "stdout",
     "output_type": "stream",
     "text": [
      "allineamenti_bralibase_riferimento_Bear_Str\n",
      "allineamenti_rnaspa_riferimento_Bear_Str\n",
      "allineamenti_rnastrand_riferimento_Bear_Str\n",
      "allineamenti_RRS_riferimento_Bear_Str\n"
     ]
    }
   ],
   "source": [
    "for ref in os.listdir(\"refAligns/\"):\n",
    "    if not ref.startswith(\"allineamenti\"):\n",
    "        continue\n",
    "    print(ref)\n",
    "    bench = ref.split(\"_\")[1]\n",
    "    with open(\"refAligns/\"+ ref) as f:\n",
    "        set1 = open(f\"datasets/{bench}_set1\",'w')\n",
    "        set2 = open(f\"datasets/{bench}_set2\",'w')\n",
    "        line=f.readline()\n",
    "        while(line):\n",
    "            if line.startswith('>'):\n",
    "                IDs = line.strip()\n",
    "                ID1 = IDs.split(\"|\")[0]\n",
    "                ID2 = \">\" + IDs.split(\"|\")[1]\n",
    "                line=f.readline()\n",
    "                seq1 = line.strip().replace(\"-\",\"\")\n",
    "                line=f.readline()\n",
    "                db1 = line.strip().replace(\"-\",\"\")\n",
    "                line=f.readline()\n",
    "                bear1 = line.strip().replace(\".\",\"\")\n",
    "                line=f.readline()\n",
    "                seq2 = line.strip().replace(\"-\",\"\")\n",
    "                line=f.readline()\n",
    "                db2 = line.strip().replace(\"-\",\"\")\n",
    "                line=f.readline()\n",
    "                bear2 = line.strip().replace(\".\",\"\")\n",
    "                \n",
    "                set1.write(ID1+\"\\n\")\n",
    "                set1.write(seq1+\"\\n\")\n",
    "                set1.write(db1+\"\\n\")\n",
    "                set1.write(bear1+\"\\n\")\n",
    "                \n",
    "                set2.write(ID2+\"\\n\")\n",
    "                set2.write(seq2+\"\\n\")\n",
    "                set2.write(db2+\"\\n\")\n",
    "                set2.write(bear2+\"\\n\")\n",
    "            else:line=f.readline()\n",
    "    set1.close()\n",
    "    set2.close()"
   ]
  },
  {
   "cell_type": "code",
   "execution_count": null,
   "metadata": {
    "collapsed": true
   },
   "outputs": [],
   "source": []
  }
 ],
 "metadata": {
  "kernelspec": {
   "display_name": "Python 3",
   "language": "python",
   "name": "python3"
  },
  "language_info": {
   "codemirror_mode": {
    "name": "ipython",
    "version": 3
   },
   "file_extension": ".py",
   "mimetype": "text/x-python",
   "name": "python",
   "nbconvert_exporter": "python",
   "pygments_lexer": "ipython3",
   "version": "3.6.0"
  }
 },
 "nbformat": 4,
 "nbformat_minor": 2
}
