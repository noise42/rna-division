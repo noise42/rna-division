{
 "cells": [
  {
   "cell_type": "code",
   "execution_count": 102,
   "metadata": {},
   "outputs": [
    {
     "data": {
      "text/plain": [
       "'given the BEAGLE outputs and the reference alignments, compute the SPS for each method/bonus/align'"
      ]
     },
     "execution_count": 102,
     "metadata": {},
     "output_type": "execute_result"
    }
   ],
   "source": [
    "\"\"\"given the BEAGLE outputs and the reference alignments, compute the SPS for each method/bonus/align\"\"\""
   ]
  },
  {
   "cell_type": "code",
   "execution_count": 11,
   "metadata": {
    "collapsed": true
   },
   "outputs": [],
   "source": [
    "import os\n",
    "\n",
    "import pandas as pd\n",
    "import numpy as np"
   ]
  },
  {
   "cell_type": "code",
   "execution_count": 24,
   "metadata": {},
   "outputs": [
    {
     "name": "stdout",
     "output_type": "stream",
     "text": [
      "c\n"
     ]
    },
    {
     "data": {
      "text/plain": [
       "0.90476190476190477"
      ]
     },
     "execution_count": 24,
     "metadata": {},
     "output_type": "execute_result"
    }
   ],
   "source": [
    "def computeSPS(ref_aln, target_aln):\n",
    "#print(\"target:{},ref:{}\".format(target_aln, ref_aln))\n",
    "\n",
    "    S=[]\n",
    "    lref = len(ref_aln[0])\n",
    "    ltar = len(target_aln[0])\n",
    "    effective_range=min(ltar, lref )\n",
    "    shiftscore = []\n",
    "    if ltar < lref:\n",
    "        for shift in range(0, lref-ltar+1):\n",
    "            tmpsum=0\n",
    "            for i in np.arange(effective_range):\n",
    "                \n",
    "                try:\n",
    "                    if ref_aln[0][i+shift] == target_aln[0][i] and ref_aln[1][i+shift] == target_aln[1][i]:\n",
    "                        tmpsum+=1\n",
    "                    \n",
    "                except IndexError:\n",
    "                    print(i, ref_aln, target_aln)\n",
    "                    break\n",
    "            shiftscore.append(tmpsum)\n",
    "\n",
    "    if lref < ltar:\n",
    "        for shift in range(0, ltar-lref+1):\n",
    "            tmpsum=0\n",
    "            for i in np.arange(effective_range):\n",
    "                try:\n",
    "                    if ref_aln[0][i] == target_aln[0][i+shift] and ref_aln[1][i] == target_aln[1][i+shift]:\n",
    "                        tmpsum+=1\n",
    "                except IndexError:\n",
    "                    print(i, ref_aln, target_aln)\n",
    "                    break    \n",
    "            shiftscore.append(tmpsum)\n",
    "    if lref == ltar:\n",
    "        tmpsum=0\n",
    "        for i in np.arange(effective_range):\n",
    "            \n",
    "            try:\n",
    "                if ref_aln[0][i] == target_aln[0][i] and ref_aln[1][i] == target_aln[1][i]:\n",
    "                    tmpsum+=1\n",
    "               \n",
    "            except IndexError:\n",
    "                print(i, ref_aln, target_aln)\n",
    "                break    \n",
    "        shiftscore.append(tmpsum)\n",
    "        \n",
    "    return np.max(shiftscore)/lref\n",
    "\n",
    "test_ref = [\"aaaaacccccgg-dggttttt\",\"aaaaacccccg-dgggttttt\"]\n",
    "test_target = [\"aaaaacccccggd-ggttttt\",\"aaaaacccccg-dgggttttt\"]\n",
    "computeSPS(test_ref, test_target)"
   ]
  },
  {
   "cell_type": "code",
   "execution_count": 9,
   "metadata": {
    "scrolled": true
   },
   "outputs": [
    {
     "name": "stdout",
     "output_type": "stream",
     "text": [
      "bear_62_RRS_0.1.out\n",
      "bear_62_RRS_0.2.out\n",
      "bear_62_RRS_0.3.out\n",
      "bear_62_RRS_0.4.out\n",
      "bear_62_RRS_0.5.out\n",
      "bear_62_RRS_0.6.out\n",
      "bear_62_RRS_0.7.out\n",
      "bear_62_RRS_0.8.out\n",
      "bear_62_RRS_0.9.out\n"
     ]
    },
    {
     "ename": "KeyboardInterrupt",
     "evalue": "",
     "output_type": "error",
     "traceback": [
      "\u001b[0;31m---------------------------------------------------------------------------\u001b[0m",
      "\u001b[0;31mKeyboardInterrupt\u001b[0m                         Traceback (most recent call last)",
      "\u001b[0;32m<ipython-input-9-573fada28850>\u001b[0m in \u001b[0;36m<module>\u001b[0;34m()\u001b[0m\n\u001b[1;32m     27\u001b[0m                     \u001b[0;32mwhile\u001b[0m\u001b[0;34m(\u001b[0m\u001b[0mIDSt\u001b[0m \u001b[0;34m!=\u001b[0m \u001b[0mIDSr\u001b[0m\u001b[0;34m)\u001b[0m\u001b[0;34m:\u001b[0m\u001b[0;34m\u001b[0m\u001b[0m\n\u001b[1;32m     28\u001b[0m                         \u001b[0;31m##some beagle outs may be missing, move on ref\u001b[0m\u001b[0;34m\u001b[0m\u001b[0;34m\u001b[0m\u001b[0m\n\u001b[0;32m---> 29\u001b[0;31m                         \u001b[0mrefline\u001b[0m \u001b[0;34m=\u001b[0m \u001b[0mr\u001b[0m\u001b[0;34m.\u001b[0m\u001b[0mreadline\u001b[0m\u001b[0;34m(\u001b[0m\u001b[0;34m)\u001b[0m\u001b[0;34m\u001b[0m\u001b[0m\n\u001b[0m\u001b[1;32m     30\u001b[0m                         \u001b[0;32mif\u001b[0m \u001b[0mrefline\u001b[0m\u001b[0;34m.\u001b[0m\u001b[0mstartswith\u001b[0m\u001b[0;34m(\u001b[0m\u001b[0;34m\">\"\u001b[0m\u001b[0;34m)\u001b[0m\u001b[0;34m:\u001b[0m\u001b[0;34m\u001b[0m\u001b[0m\n\u001b[1;32m     31\u001b[0m                             \u001b[0mIDSr\u001b[0m \u001b[0;34m=\u001b[0m \u001b[0mrefline\u001b[0m\u001b[0;34m.\u001b[0m\u001b[0mstrip\u001b[0m\u001b[0;34m(\u001b[0m\u001b[0;34m)\u001b[0m\u001b[0;34m\u001b[0m\u001b[0m\n",
      "\u001b[0;32m/Users/marcop/anaconda/lib/python3.6/codecs.py\u001b[0m in \u001b[0;36mdecode\u001b[0;34m(self, input, final)\u001b[0m\n\u001b[1;32m    316\u001b[0m         \u001b[0;32mraise\u001b[0m \u001b[0mNotImplementedError\u001b[0m\u001b[0;34m\u001b[0m\u001b[0m\n\u001b[1;32m    317\u001b[0m \u001b[0;34m\u001b[0m\u001b[0m\n\u001b[0;32m--> 318\u001b[0;31m     \u001b[0;32mdef\u001b[0m \u001b[0mdecode\u001b[0m\u001b[0;34m(\u001b[0m\u001b[0mself\u001b[0m\u001b[0;34m,\u001b[0m \u001b[0minput\u001b[0m\u001b[0;34m,\u001b[0m \u001b[0mfinal\u001b[0m\u001b[0;34m=\u001b[0m\u001b[0;32mFalse\u001b[0m\u001b[0;34m)\u001b[0m\u001b[0;34m:\u001b[0m\u001b[0;34m\u001b[0m\u001b[0m\n\u001b[0m\u001b[1;32m    319\u001b[0m         \u001b[0;31m# decode input (taking the buffer into account)\u001b[0m\u001b[0;34m\u001b[0m\u001b[0;34m\u001b[0m\u001b[0m\n\u001b[1;32m    320\u001b[0m         \u001b[0mdata\u001b[0m \u001b[0;34m=\u001b[0m \u001b[0mself\u001b[0m\u001b[0;34m.\u001b[0m\u001b[0mbuffer\u001b[0m \u001b[0;34m+\u001b[0m \u001b[0minput\u001b[0m\u001b[0;34m\u001b[0m\u001b[0m\n",
      "\u001b[0;31mKeyboardInterrupt\u001b[0m: "
     ]
    }
   ],
   "source": [
    "results = []\n",
    "for out in os.listdir('out'):\n",
    "    print(out)\n",
    "    chunks = out.split(\"_\")\n",
    "    mbrVer = \"_\".join(chunks[:2])\n",
    "    dataset = chunks[2]\n",
    "    if len(chunks[3].split(\".\")) == 3:\n",
    "        bonus = float(\".\".join(chunks[3].split(\".\")[0:2]))\n",
    "    else:\n",
    "        bonus = float(chunks[3].split(\".\")[0])\n",
    "    outpath = f\"out/{out}\"\n",
    "    refpath = f\"refAligns/allineamenti_{dataset}_riferimento_Bear_Str\"\n",
    "    \n",
    "    with open(outpath) as o:\n",
    "        with open(refpath) as r:\n",
    "            ### TODO MA L SPS E' CALCOLATO SU STRUTTURA O SU SEQUENZA??????????????\n",
    "            #ME SA SEQUENZA ZI\n",
    "            outline = o.readline()\n",
    "            refline = r.readline()\n",
    "            #proceed in parallel\n",
    "            while(outline):\n",
    "                if outline.startswith('>'):\n",
    "                    ##found align!\n",
    "                    IDSt = \"|\".join(outline.split(\"|\")[:2])\n",
    "                    IDSr = refline.strip()\n",
    "                    \n",
    "                    while(IDSt != IDSr):\n",
    "                        ##some beagle outs may be missing, move on ref\n",
    "                        refline = r.readline()\n",
    "                        if refline.startswith(\">\"):\n",
    "                            IDSr = refline.strip()\n",
    "                    IDS = IDSt\n",
    "                    outline = o.readline()\n",
    "                    refline = r.readline()\n",
    "                    \n",
    "                    #take target1 and ref1 (SEQ)\n",
    "                    t1 = outline.strip()\n",
    "                    r1 = refline.strip()\n",
    "                    \n",
    "                    outline = o.readline()#DB\n",
    "                    refline = r.readline()\n",
    "                    outline = o.readline()#BEAR\n",
    "                    refline = r.readline()\n",
    "                    outline = o.readline()#SEQ2\n",
    "                    refline = r.readline()\n",
    "                    \n",
    "                    #take target2 and ref2 (SEQ)\n",
    "                    t2 = outline.strip()\n",
    "                    r2 = refline.strip()\n",
    "                    \n",
    "                    ref=[r1,r2]\n",
    "                    target=[t1,t2]\n",
    "            \n",
    "                    SPS = computeSPS(ref, target)\n",
    "                    results.append([IDS, dataset, mbrVer, bonus, SPS])\n",
    "                    \n",
    "                    outline = o.readline()#DB2\n",
    "                    refline = r.readline()\n",
    "                    outline = o.readline()#BEAR2\n",
    "                    refline = r.readline()\n",
    "                    outline = o.readline()#new ID\n",
    "                    refline = r.readline()\n",
    "                elif outline==\"\\n\":\n",
    "                    outline = o.readline()\n",
    "                else:\n",
    "                    \n",
    "                    outline = o.readline()\n",
    "                    refline = r.readline()\n",
    "    \n",
    "    "
   ]
  },
  {
   "cell_type": "code",
   "execution_count": 10,
   "metadata": {},
   "outputs": [
    {
     "data": {
      "text/html": [
       "<div>\n",
       "<style>\n",
       "    .dataframe thead tr:only-child th {\n",
       "        text-align: right;\n",
       "    }\n",
       "\n",
       "    .dataframe thead th {\n",
       "        text-align: left;\n",
       "    }\n",
       "\n",
       "    .dataframe tbody tr th {\n",
       "        vertical-align: top;\n",
       "    }\n",
       "</style>\n",
       "<table border=\"1\" class=\"dataframe\">\n",
       "  <thead>\n",
       "    <tr style=\"text-align: right;\">\n",
       "      <th></th>\n",
       "      <th>IDS</th>\n",
       "      <th>dataset</th>\n",
       "      <th>matrix</th>\n",
       "      <th>SPS</th>\n",
       "    </tr>\n",
       "    <tr>\n",
       "      <th>bonus</th>\n",
       "      <th></th>\n",
       "      <th></th>\n",
       "      <th></th>\n",
       "      <th></th>\n",
       "    </tr>\n",
       "  </thead>\n",
       "  <tbody>\n",
       "    <tr>\n",
       "      <th>0.1</th>\n",
       "      <td>10620</td>\n",
       "      <td>10620</td>\n",
       "      <td>10620</td>\n",
       "      <td>10620</td>\n",
       "    </tr>\n",
       "    <tr>\n",
       "      <th>0.2</th>\n",
       "      <td>10620</td>\n",
       "      <td>10620</td>\n",
       "      <td>10620</td>\n",
       "      <td>10620</td>\n",
       "    </tr>\n",
       "    <tr>\n",
       "      <th>0.3</th>\n",
       "      <td>10620</td>\n",
       "      <td>10620</td>\n",
       "      <td>10620</td>\n",
       "      <td>10620</td>\n",
       "    </tr>\n",
       "    <tr>\n",
       "      <th>0.4</th>\n",
       "      <td>10620</td>\n",
       "      <td>10620</td>\n",
       "      <td>10620</td>\n",
       "      <td>10620</td>\n",
       "    </tr>\n",
       "    <tr>\n",
       "      <th>0.5</th>\n",
       "      <td>10620</td>\n",
       "      <td>10620</td>\n",
       "      <td>10620</td>\n",
       "      <td>10620</td>\n",
       "    </tr>\n",
       "    <tr>\n",
       "      <th>0.6</th>\n",
       "      <td>10620</td>\n",
       "      <td>10620</td>\n",
       "      <td>10620</td>\n",
       "      <td>10620</td>\n",
       "    </tr>\n",
       "    <tr>\n",
       "      <th>0.7</th>\n",
       "      <td>10620</td>\n",
       "      <td>10620</td>\n",
       "      <td>10620</td>\n",
       "      <td>10620</td>\n",
       "    </tr>\n",
       "    <tr>\n",
       "      <th>0.8</th>\n",
       "      <td>10620</td>\n",
       "      <td>10620</td>\n",
       "      <td>10620</td>\n",
       "      <td>10620</td>\n",
       "    </tr>\n",
       "    <tr>\n",
       "      <th>0.9</th>\n",
       "      <td>9593</td>\n",
       "      <td>9593</td>\n",
       "      <td>9593</td>\n",
       "      <td>9593</td>\n",
       "    </tr>\n",
       "  </tbody>\n",
       "</table>\n",
       "</div>"
      ],
      "text/plain": [
       "         IDS  dataset  matrix    SPS\n",
       "bonus                               \n",
       "0.1    10620    10620   10620  10620\n",
       "0.2    10620    10620   10620  10620\n",
       "0.3    10620    10620   10620  10620\n",
       "0.4    10620    10620   10620  10620\n",
       "0.5    10620    10620   10620  10620\n",
       "0.6    10620    10620   10620  10620\n",
       "0.7    10620    10620   10620  10620\n",
       "0.8    10620    10620   10620  10620\n",
       "0.9     9593     9593    9593   9593"
      ]
     },
     "execution_count": 10,
     "metadata": {},
     "output_type": "execute_result"
    }
   ],
   "source": [
    "df = pd.DataFrame(results, columns=['IDS', 'dataset', 'matrix','bonus','SPS'])\n",
    "df.sample(10)"
   ]
  },
  {
   "cell_type": "code",
   "execution_count": 88,
   "metadata": {},
   "outputs": [],
   "source": [
    "import pickle\n",
    "pickle.dump(df ,open('results_DF.pkl', 'wb'))"
   ]
  },
  {
   "cell_type": "code",
   "execution_count": 65,
   "metadata": {
    "scrolled": true
   },
   "outputs": [
    {
     "data": {
      "text/html": [
       "<div>\n",
       "<style>\n",
       "    .dataframe thead tr:only-child th {\n",
       "        text-align: right;\n",
       "    }\n",
       "\n",
       "    .dataframe thead th {\n",
       "        text-align: left;\n",
       "    }\n",
       "\n",
       "    .dataframe tbody tr th {\n",
       "        vertical-align: top;\n",
       "    }\n",
       "</style>\n",
       "<table border=\"1\" class=\"dataframe\">\n",
       "  <thead>\n",
       "    <tr style=\"text-align: right;\">\n",
       "      <th></th>\n",
       "      <th>IDS</th>\n",
       "      <th>dataset</th>\n",
       "      <th>bonus</th>\n",
       "      <th>SPS</th>\n",
       "    </tr>\n",
       "    <tr>\n",
       "      <th>matrix</th>\n",
       "      <th></th>\n",
       "      <th></th>\n",
       "      <th></th>\n",
       "      <th></th>\n",
       "    </tr>\n",
       "  </thead>\n",
       "  <tbody>\n",
       "    <tr>\n",
       "      <th>bear_62</th>\n",
       "      <td>1613980</td>\n",
       "      <td>1613980</td>\n",
       "      <td>1613980</td>\n",
       "      <td>1613980</td>\n",
       "    </tr>\n",
       "    <tr>\n",
       "      <th>bear_90</th>\n",
       "      <td>1613980</td>\n",
       "      <td>1613980</td>\n",
       "      <td>1613980</td>\n",
       "      <td>1613980</td>\n",
       "    </tr>\n",
       "    <tr>\n",
       "      <th>qbear_62</th>\n",
       "      <td>1613980</td>\n",
       "      <td>1613980</td>\n",
       "      <td>1613980</td>\n",
       "      <td>1613980</td>\n",
       "    </tr>\n",
       "    <tr>\n",
       "      <th>qbear_90</th>\n",
       "      <td>1613980</td>\n",
       "      <td>1613980</td>\n",
       "      <td>1613980</td>\n",
       "      <td>1613980</td>\n",
       "    </tr>\n",
       "    <tr>\n",
       "      <th>zbear_62</th>\n",
       "      <td>1613980</td>\n",
       "      <td>1613980</td>\n",
       "      <td>1613980</td>\n",
       "      <td>1613980</td>\n",
       "    </tr>\n",
       "    <tr>\n",
       "      <th>zbear_90</th>\n",
       "      <td>1598762</td>\n",
       "      <td>1598762</td>\n",
       "      <td>1598762</td>\n",
       "      <td>1598762</td>\n",
       "    </tr>\n",
       "  </tbody>\n",
       "</table>\n",
       "</div>"
      ],
      "text/plain": [
       "              IDS  dataset    bonus      SPS\n",
       "matrix                                      \n",
       "bear_62   1613980  1613980  1613980  1613980\n",
       "bear_90   1613980  1613980  1613980  1613980\n",
       "qbear_62  1613980  1613980  1613980  1613980\n",
       "qbear_90  1613980  1613980  1613980  1613980\n",
       "zbear_62  1613980  1613980  1613980  1613980\n",
       "zbear_90  1598762  1598762  1598762  1598762"
      ]
     },
     "execution_count": 65,
     "metadata": {},
     "output_type": "execute_result"
    }
   ],
   "source": [
    "bymat= df.groupby('matrix')\n",
    "bymat.count()"
   ]
  },
  {
   "cell_type": "code",
   "execution_count": 96,
   "metadata": {},
   "outputs": [
    {
     "data": {
      "text/plain": [
       "<matplotlib.figure.Figure at 0x284bed3c8>"
      ]
     },
     "metadata": {},
     "output_type": "display_data"
    }
   ],
   "source": [
    "import seaborn as sns\n",
    "import matplotlib.pyplot as plt\n",
    "%matplotlib inline\n",
    "\n",
    "with sns.plotting_context(font_scale=1.2):\n",
    "\n",
    "    for meth in df.matrix.unique():\n",
    "        plt.clf()\n",
    "        g=sns.pointplot(x='bonus', y='SPS', hue='dataset', data=df[df.matrix==meth],\n",
    "                       markers=['x','o','v','^'], scale=0.3,\n",
    "                       linestyles=[\"-\", \"--\", \":\", \"-.\"])\n",
    "        g.set_ylim([0,1.01])\n",
    "        # iterate over axes of FacetGrid\n",
    "        g.set_title(meth)\n",
    "        labels = g.get_xticklabels() # get x labels\n",
    "        for i,l in enumerate(labels):\n",
    "            if(i%2 == 0): labels[i] = '' # skip even labels\n",
    "        g.set_xticklabels(labels, rotation=90) # set new labels\n",
    "        g.set_xlabel('bonus',)\n",
    "        plt.savefig(f'plots/{meth}_bonus_SPS.pdf')\n",
    "\n",
    "plt.clf()"
   ]
  },
  {
   "cell_type": "code",
   "execution_count": null,
   "metadata": {},
   "outputs": [],
   "source": []
  },
  {
   "cell_type": "code",
   "execution_count": null,
   "metadata": {
    "collapsed": true
   },
   "outputs": [],
   "source": []
  }
 ],
 "metadata": {
  "kernelspec": {
   "display_name": "Python 3",
   "language": "python",
   "name": "python3"
  },
  "language_info": {
   "codemirror_mode": {
    "name": "ipython",
    "version": 3
   },
   "file_extension": ".py",
   "mimetype": "text/x-python",
   "name": "python",
   "nbconvert_exporter": "python",
   "pygments_lexer": "ipython3",
   "version": "3.6.1"
  }
 },
 "nbformat": 4,
 "nbformat_minor": 2
}
