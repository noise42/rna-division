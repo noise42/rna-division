{
 "cells": [
  {
   "cell_type": "code",
   "execution_count": 2,
   "metadata": {
    "collapsed": true
   },
   "outputs": [],
   "source": [
    "import pickle\n",
    "import os\n",
    "\n",
    "import pandas as pd\n",
    "import numpy as np"
   ]
  },
  {
   "cell_type": "code",
   "execution_count": 3,
   "metadata": {
    "collapsed": true
   },
   "outputs": [],
   "source": [
    "df = pickle.load( open('results_DF_last.pkl', 'rb'))\n",
    "df.sample(10)"
   ]
  },
  {
   "cell_type": "code",
   "execution_count": 4,
   "metadata": {},
   "outputs": [
    {
     "data": {
      "text/plain": [
       "<matplotlib.figure.Figure at 0x169838be0>"
      ]
     },
     "metadata": {},
     "output_type": "display_data"
    }
   ],
   "source": [
    "import seaborn as sns\n",
    "import matplotlib.pyplot as plt\n",
    "%matplotlib inline\n",
    "\n",
    "with sns.plotting_context(font_scale=1.2):\n",
    "\n",
    "    for meth in df.matrix.unique():\n",
    "        plt.clf()\n",
    "        g=sns.pointplot(x='bonus', y='SPS', hue='dataset', data=df[df.matrix==meth],\n",
    "                       markers=['x','o','v','^'], scale=0.3,\n",
    "                       linestyles=[\"-\", \"--\", \":\", \"-.\"])\n",
    "        g.set_ylim([0,1.01])\n",
    "        # iterate over axes of FacetGrid\n",
    "        g.set_title(meth)\n",
    "        labels = g.get_xticklabels() # get x labels\n",
    "        for i,l in enumerate(labels):\n",
    "            if(i%2 == 0): labels[i] = '' # skip even labels\n",
    "        g.set_xticklabels(labels, rotation=90) # set new labels\n",
    "        g.set_xlabel('bonus',)\n",
    "        plt.savefig(f'plots/{meth}_bonus_SPS.pdf')\n",
    "\n",
    "plt.clf()"
   ]
  },
  {
   "cell_type": "code",
   "execution_count": null,
   "metadata": {
    "collapsed": true
   },
   "outputs": [],
   "source": []
  }
 ],
 "metadata": {
  "kernelspec": {
   "display_name": "Python 3",
   "language": "python",
   "name": "python3"
  },
  "language_info": {
   "codemirror_mode": {
    "name": "ipython",
    "version": 3
   },
   "file_extension": ".py",
   "mimetype": "text/x-python",
   "name": "python",
   "nbconvert_exporter": "python",
   "pygments_lexer": "ipython3",
   "version": "3.6.1"
  }
 },
 "nbformat": 4,
 "nbformat_minor": 2
}
