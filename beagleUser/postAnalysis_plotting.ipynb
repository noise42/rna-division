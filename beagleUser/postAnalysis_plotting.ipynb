{
 "cells": [
  {
   "cell_type": "code",
   "execution_count": 5,
   "metadata": {
    "collapsed": true
   },
   "outputs": [],
   "source": [
    "import pickle\n",
    "import os\n",
    "\n",
    "import pandas as pd\n",
    "import numpy as np"
   ]
  },
  {
   "cell_type": "code",
   "execution_count": 9,
   "metadata": {},
   "outputs": [
    {
     "data": {
      "text/html": [
       "<div>\n",
       "<style>\n",
       "    .dataframe thead tr:only-child th {\n",
       "        text-align: right;\n",
       "    }\n",
       "\n",
       "    .dataframe thead th {\n",
       "        text-align: left;\n",
       "    }\n",
       "\n",
       "    .dataframe tbody tr th {\n",
       "        vertical-align: top;\n",
       "    }\n",
       "</style>\n",
       "<table border=\"1\" class=\"dataframe\">\n",
       "  <thead>\n",
       "    <tr style=\"text-align: right;\">\n",
       "      <th></th>\n",
       "      <th>IDS</th>\n",
       "      <th>dataset</th>\n",
       "      <th>matrix</th>\n",
       "      <th>bonus</th>\n",
       "      <th>SPS</th>\n",
       "    </tr>\n",
       "  </thead>\n",
       "  <tbody>\n",
       "    <tr>\n",
       "      <th>3270900</th>\n",
       "      <td>&gt;RF02030_BX950851.1/4236584-4236712|RF02030_AB...</td>\n",
       "      <td>RRS</td>\n",
       "      <td>qbear_90</td>\n",
       "      <td>0.5</td>\n",
       "      <td>0.641791</td>\n",
       "    </tr>\n",
       "    <tr>\n",
       "      <th>4457790</th>\n",
       "      <td>&gt;RF01192_BAAE01004788.1/3214-3131|RF01192_AAWZ...</td>\n",
       "      <td>RRS</td>\n",
       "      <td>zbear_62</td>\n",
       "      <td>1.6</td>\n",
       "      <td>0.840909</td>\n",
       "    </tr>\n",
       "    <tr>\n",
       "      <th>8171771</th>\n",
       "      <td>&gt;RF00163_AF036392.1/121-168|RF00163_Z69699.1/3...</td>\n",
       "      <td>rnastrand</td>\n",
       "      <td>zbear_90</td>\n",
       "      <td>0.7</td>\n",
       "      <td>0.711538</td>\n",
       "    </tr>\n",
       "    <tr>\n",
       "      <th>4579227</th>\n",
       "      <td>&gt;RF00237_AAVX01065791.1/2124-2183|RF00237_AAFR...</td>\n",
       "      <td>RRS</td>\n",
       "      <td>zbear_62</td>\n",
       "      <td>2.7</td>\n",
       "      <td>0.600000</td>\n",
       "    </tr>\n",
       "    <tr>\n",
       "      <th>3796642</th>\n",
       "      <td>&gt;RF00618_AAPN01427475.1/38-163|RF00618_ABAV010...</td>\n",
       "      <td>RRS</td>\n",
       "      <td>qbear_90</td>\n",
       "      <td>5.4</td>\n",
       "      <td>0.217687</td>\n",
       "    </tr>\n",
       "    <tr>\n",
       "      <th>1507682</th>\n",
       "      <td>&gt;RF02004_ACMX01000066.1/11688-11492|RF02004_AB...</td>\n",
       "      <td>RRS</td>\n",
       "      <td>bear_90</td>\n",
       "      <td>3.0</td>\n",
       "      <td>0.241546</td>\n",
       "    </tr>\n",
       "    <tr>\n",
       "      <th>5405131</th>\n",
       "      <td>&gt;RF02002_CABD01362204.1/591-483|RF02002_CABD01...</td>\n",
       "      <td>RRS</td>\n",
       "      <td>zbear_90</td>\n",
       "      <td>0.4</td>\n",
       "      <td>0.954545</td>\n",
       "    </tr>\n",
       "    <tr>\n",
       "      <th>6519880</th>\n",
       "      <td>&gt;RF00163_AF036391.1/121-168|RF00163_L07513.1/8...</td>\n",
       "      <td>rnastrand</td>\n",
       "      <td>bear_62</td>\n",
       "      <td>0.5</td>\n",
       "      <td>0.958333</td>\n",
       "    </tr>\n",
       "    <tr>\n",
       "      <th>7842042</th>\n",
       "      <td>&gt;RF00164_AJ619580.1/109-151|RF00164_L06252.1/3...</td>\n",
       "      <td>rnastrand</td>\n",
       "      <td>zbear_62</td>\n",
       "      <td>0.6</td>\n",
       "      <td>1.000000</td>\n",
       "    </tr>\n",
       "    <tr>\n",
       "      <th>3333961</th>\n",
       "      <td>&gt;RF01967_ABRQ01017964.1/458-660|RF01967_AAGW01...</td>\n",
       "      <td>RRS</td>\n",
       "      <td>qbear_90</td>\n",
       "      <td>1.1</td>\n",
       "      <td>0.413793</td>\n",
       "    </tr>\n",
       "  </tbody>\n",
       "</table>\n",
       "</div>"
      ],
      "text/plain": [
       "                                                       IDS    dataset  \\\n",
       "3270900  >RF02030_BX950851.1/4236584-4236712|RF02030_AB...        RRS   \n",
       "4457790  >RF01192_BAAE01004788.1/3214-3131|RF01192_AAWZ...        RRS   \n",
       "8171771  >RF00163_AF036392.1/121-168|RF00163_Z69699.1/3...  rnastrand   \n",
       "4579227  >RF00237_AAVX01065791.1/2124-2183|RF00237_AAFR...        RRS   \n",
       "3796642  >RF00618_AAPN01427475.1/38-163|RF00618_ABAV010...        RRS   \n",
       "1507682  >RF02004_ACMX01000066.1/11688-11492|RF02004_AB...        RRS   \n",
       "5405131  >RF02002_CABD01362204.1/591-483|RF02002_CABD01...        RRS   \n",
       "6519880  >RF00163_AF036391.1/121-168|RF00163_L07513.1/8...  rnastrand   \n",
       "7842042  >RF00164_AJ619580.1/109-151|RF00164_L06252.1/3...  rnastrand   \n",
       "3333961  >RF01967_ABRQ01017964.1/458-660|RF01967_AAGW01...        RRS   \n",
       "\n",
       "           matrix  bonus       SPS  \n",
       "3270900  qbear_90    0.5  0.641791  \n",
       "4457790  zbear_62    1.6  0.840909  \n",
       "8171771  zbear_90    0.7  0.711538  \n",
       "4579227  zbear_62    2.7  0.600000  \n",
       "3796642  qbear_90    5.4  0.217687  \n",
       "1507682   bear_90    3.0  0.241546  \n",
       "5405131  zbear_90    0.4  0.954545  \n",
       "6519880   bear_62    0.5  0.958333  \n",
       "7842042  zbear_62    0.6  1.000000  \n",
       "3333961  qbear_90    1.1  0.413793  "
      ]
     },
     "execution_count": 9,
     "metadata": {},
     "output_type": "execute_result"
    }
   ],
   "source": [
    "rrsp = \"results_DF_RRS.pkl\"\n",
    "bralip = \"results_DF_bralibase.pkl\"\n",
    "strandp = \"results_DF_rnastrand.pkl\"\n",
    "spap = \"results_DF_rnaspa.pkl\"\n",
    "origp = \"results_DF_bear_orig.pkl\"\n",
    "\n",
    "rrs = pickle.load( open(rrsp, 'rb'))\n",
    "brali = pickle.load( open(bralip, 'rb'))\n",
    "strand = pickle.load( open(strandp, 'rb'))\n",
    "spa = pickle.load( open(spap, 'rb'))\n",
    "orig = pickle.load( open(origp, 'rb'))\n",
    "\n",
    "df = pd.concat([rrs,brali,strand,spa,orig]).reset_index().drop('index', axis=1)\n",
    "df.sample(10)"
   ]
  },
  {
   "cell_type": "code",
   "execution_count": 15,
   "metadata": {
    "collapsed": true
   },
   "outputs": [],
   "source": [
    "import seaborn as sns\n",
    "import matplotlib.pyplot as plt\n",
    "%matplotlib inline"
   ]
  },
  {
   "cell_type": "code",
   "execution_count": 4,
   "metadata": {},
   "outputs": [
    {
     "data": {
      "text/plain": [
       "<matplotlib.figure.Figure at 0x169838be0>"
      ]
     },
     "metadata": {},
     "output_type": "display_data"
    }
   ],
   "source": [
    "with sns.plotting_context('paper', font_scale=1.2):\n",
    "\n",
    "    for meth in df.matrix.unique():\n",
    "        plt.clf()\n",
    "        g=sns.pointplot(x='bonus', y='SPS', hue='dataset', data=df[df.matrix==meth],\n",
    "                       markers=['x','o','v','^'], scale=0.3,\n",
    "                       linestyles=[\"-\", \"--\", \":\", \"-.\"])\n",
    "        g.set_ylim([0,1.01])\n",
    "        # iterate over axes of FacetGrid\n",
    "        g.set_title(meth)\n",
    "        labels = g.get_xticklabels() # get x labels\n",
    "        for i,l in enumerate(labels):\n",
    "            if(i%2 == 0): labels[i] = '' # skip even labels\n",
    "        g.set_xticklabels(labels, rotation=90) # set new labels\n",
    "        g.set_xlabel('bonus',)\n",
    "        plt.savefig(f'plots/{meth}_bonus_SPS.pdf')\n",
    "\n",
    "plt.clf()"
   ]
  },
  {
   "cell_type": "code",
   "execution_count": 17,
   "metadata": {},
   "outputs": [
    {
     "name": "stderr",
     "output_type": "stream",
     "text": [
      "/Users/marcop/anaconda/lib/python3.6/site-packages/ipykernel_launcher.py:7: UserWarning: Boolean Series key will be reindexed to match DataFrame index.\n",
      "  import sys\n"
     ]
    }
   ],
   "source": [
    "###find maximum meanSPS over bonus for each method and dataset, then bar plot that value\n",
    "from collections import defaultdict\n",
    "d = defaultdict(list)\n",
    "for mat in df.matrix.unique():\n",
    "    for dataset in df.dataset.unique():\n",
    "        \n",
    "        best = df[df.matrix == mat][df.dataset == dataset].groupby('bonus').mean().max()\n",
    "        d[mat].append(best)"
   ]
  },
  {
   "cell_type": "code",
   "execution_count": 23,
   "metadata": {},
   "outputs": [
    {
     "data": {
      "text/plain": [
       "array(['RRS', 'bralibase', 'rnastrand', 'rnaspa'], dtype=object)"
      ]
     },
     "execution_count": 23,
     "metadata": {},
     "output_type": "execute_result"
    }
   ],
   "source": [
    "d\n",
    "df.dataset.unique()"
   ]
  },
  {
   "cell_type": "code",
   "execution_count": 66,
   "metadata": {},
   "outputs": [
    {
     "data": {
      "image/png": "[encoded data removed]",
      "text/plain": [
       "<matplotlib.figure.Figure at 0x17d226f98>"
      ]
     },
     "metadata": {},
     "output_type": "display_data"
    }
   ],
   "source": [
    "with sns.plotting_context(font_scale=1.4):\n",
    "    # set width of bar\n",
    "    barWidth = 0.1\n",
    "    # Set position of bar on X axis\n",
    "    r1 = np.arange(len(d['bear_orig']))\n",
    "    r2 = [x + barWidth for x in r1]\n",
    "    r3 = [x + barWidth for x in r2]\n",
    "    r4 = [x + barWidth for x in r3]\n",
    "    r5 = [x + barWidth for x in r4]\n",
    "    r6 = [x + barWidth for x in r5]\n",
    "    r7 = [x + barWidth for x in r6]\n",
    "\n",
    "    # Make the plot\n",
    "    plt.bar(r1, d['bear_orig'],color = \"#ffdfb8\", width=barWidth, edgecolor='white', label='bear_orig')\n",
    "    plt.bar(r2, d['bear_62'],color = \"#ffebaf\", width=barWidth, edgecolor='white', label='bear_62')\n",
    "    plt.bar(r3, d['bear_90'],color = \"#fafbad\", width=barWidth, edgecolor='white', label='bear_90')\n",
    "    plt.bar(r4, d['qbear_62'],color = \"#ffa5aa\", width=barWidth, edgecolor='white', label='qbear_62')\n",
    "    plt.bar(r5, d['qbear_90'],color = \"#fea100\", width=barWidth, edgecolor='white', label='qbear_90')\n",
    "    plt.bar(r6, d['zbear_62'],color = \"#98FB98\", width=barWidth, edgecolor='white', label='zbear_62')\n",
    "    plt.bar(r7, d['zbear_90'],color = \"#98e587\", width=barWidth, edgecolor='white', label='zbear_90')\n",
    "\n",
    "    # Add xticks on the middle of the group bars\n",
    "    plt.xlabel('benchmark', fontweight='bold')\n",
    "    plt.xticks([r+0.2+barWidth for r in range(len(d['bear_orig']))], ['RRS', 'bralibase', 'rnastrand', 'rnaspa'])\n",
    "    plt.ylim([0,1.5])\n",
    "    plt.yticks(np.arange(0,1.01,0.2))\n",
    "    # Create legend & Show graphic\n",
    "    plt.legend()\n",
    "    plt.savefig('plots/SPS_all.pdf')\n",
    "\n",
    "    plt.show()\n"
   ]
  },
  {
   "cell_type": "code",
   "execution_count": 45,
   "metadata": {},
   "outputs": [
    {
     "data": {
      "text/plain": [
       "Index(['c', 'f', 'e'], dtype='object')"
      ]
     },
     "execution_count": 45,
     "metadata": {},
     "output_type": "execute_result"
    }
   ],
   "source": [
    "a = [1,2,3,4,5,6]\n",
    "b = [5,2,30,4,5,6]\n",
    "\n",
    "tmp = pd.DataFrame([a,b], columns=['a','b','c','d','e','f'])\n",
    "tmp.iloc[1].sort_values(ascending=False).index[:3]"
   ]
  },
  {
   "cell_type": "code",
   "execution_count": null,
   "metadata": {
    "collapsed": true
   },
   "outputs": [],
   "source": []
  }
 ],
 "metadata": {
  "kernelspec": {
   "display_name": "Python 3",
   "language": "python",
   "name": "python3"
  },
  "language_info": {
   "codemirror_mode": {
    "name": "ipython",
    "version": 3
   },
   "file_extension": ".py",
   "mimetype": "text/x-python",
   "name": "python",
   "nbconvert_exporter": "python",
   "pygments_lexer": "ipython3",
   "version": "3.6.1"
  }
 },
 "nbformat": 4,
 "nbformat_minor": 2
}
