{
 "cells": [
  {
   "cell_type": "code",
   "execution_count": 2,
   "metadata": {
    "collapsed": true
   },
   "outputs": [],
   "source": [
    "import function_mbr as fun\n",
    "import pandas as pd"
   ]
  },
  {
   "cell_type": "code",
   "execution_count": 5,
   "metadata": {
    "collapsed": false,
    "scrolled": true
   },
   "outputs": [],
   "source": [
    "s_art_50=pd.read_table('50/MBR_artigianale_50.tsv', index_col=0)\n",
    "fun.make_heatmap(s_art_50, 'artigianale', '50')"
   ]
  },
  {
   "cell_type": "code",
   "execution_count": 6,
   "metadata": {
    "collapsed": true
   },
   "outputs": [],
   "source": [
    "s_qbear_50=pd.read_table('50/MBR_qbear_50.tsv', index_col=0)\n",
    "fun.make_heatmap(s_qbear_50, 'qbear', '50')"
   ]
  },
  {
   "cell_type": "code",
   "execution_count": 7,
   "metadata": {
    "collapsed": true
   },
   "outputs": [],
   "source": [
    "s_art_62=pd.read_table('62/MBR_artigianale_62.tsv', index_col=0)\n",
    "fun.make_heatmap(s_art_62, 'artigianale', '62')"
   ]
  },
  {
   "cell_type": "code",
   "execution_count": 8,
   "metadata": {
    "collapsed": true
   },
   "outputs": [],
   "source": [
    "s_qbear_62=pd.read_table('62/MBR_qbear_62.tsv', index_col=0)\n",
    "fun.make_heatmap(s_qbear_62, 'qbear', '62')"
   ]
  },
  {
   "cell_type": "code",
   "execution_count": 9,
   "metadata": {
    "collapsed": true
   },
   "outputs": [],
   "source": [
    "s_art_90=pd.read_table('90/MBR_artigianale_90.tsv', index_col=0)\n",
    "fun.make_heatmap(s_art_90, 'artigianale', '90')"
   ]
  },
  {
   "cell_type": "code",
   "execution_count": 10,
   "metadata": {
    "collapsed": true
   },
   "outputs": [],
   "source": [
    "s_qbear_90=pd.read_table('90/MBR_qbear_90.tsv', index_col=0)\n",
    "fun.make_heatmap(s_qbear_90, 'qbear', '90')"
   ]
  },
  {
   "cell_type": "code",
   "execution_count": null,
   "metadata": {
    "collapsed": true
   },
   "outputs": [],
   "source": []
  }
 ],
 "metadata": {
  "anaconda-cloud": {},
  "kernelspec": {
   "display_name": "Python [default]",
   "language": "python",
   "name": "python2"
  },
  "language_info": {
   "codemirror_mode": {
    "name": "ipython",
    "version": 2
   },
   "file_extension": ".py",
   "mimetype": "text/x-python",
   "name": "python",
   "nbconvert_exporter": "python",
   "pygments_lexer": "ipython2",
   "version": "2.7.12"
  }
 },
 "nbformat": 4,
 "nbformat_minor": 2
}
