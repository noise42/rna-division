{
 "cells": [
  {
   "cell_type": "code",
   "execution_count": 1,
   "metadata": {
    "collapsed": true
   },
   "outputs": [],
   "source": [
    "import os\n",
    "import subprocess\n",
    "import re\n",
    "\n",
    "def distributeGaps(gappedReference, ungappedString):\n",
    "    assert len(gappedReference.replace('-','')) == len(ungappedString), 'ungapped strings should be equal' \n",
    "    result = list(ungappedString)\n",
    "    gaplist = [ m.start() for m in re.finditer('-', gappedReference)]\n",
    "\n",
    "    for gap in gaplist:    \n",
    "        result.insert(gap, '-')\n",
    "    result = \"\".join(result)    \n",
    "    return result\n",
    "\n",
    "assert(distributeGaps('--abcdef-g-', 'bombasi') == '--bombas-i-')\n"
   ]
  },
  {
   "cell_type": "code",
   "execution_count": 19,
   "metadata": {
    "collapsed": false
   },
   "outputs": [],
   "source": [
    "\n",
    "o=open('bear_alignment/RF02542.folded', \"w\")\n",
    "f=open('bear_filtered/RF02542.folded')\n",
    "line=f.readline()\n",
    "while(line):\n",
    "    if line[0]==\">\":\n",
    "        name=line[1:-1]\n",
    "        #output=subprocess.check_output(\"wc -l not_similar/\"+fam, shell=True)\n",
    "        seq_alignment=subprocess.check_output('grep '+name+' Rfam.seed', shell=True)\n",
    "        \n",
    "        line=f.readline()\n",
    "        \n",
    "        if seq_alignment.split()[0]=='AF484694.1/1-1472':\n",
    "            prova=distributeGaps(seq_alignment.split()[3], line[0:-1])\n",
    "            \n",
    "        else:\n",
    "            prova=distributeGaps(seq_alignment.split()[1], line[0:-1])\n",
    "        line=f.readline()\n",
    "        line=f.readline()\n",
    "        bear_seq=line\n",
    "\n",
    "        gap_pos=[]\n",
    "        for i, el in enumerate(prova):\n",
    "            if el=='-':\n",
    "                gap_pos.append(i)\n",
    "\n",
    "        for i in gap_pos:\n",
    "            bear_seq=bear_seq[:i] + \"-\" + bear_seq[i:]\n",
    "\n",
    "        o.write(bear_seq)\n",
    "        \n",
    "    else:\n",
    "        line=f.readline()\n",
    "o.close()"
   ]
  },
  {
   "cell_type": "code",
   "execution_count": 21,
   "metadata": {
    "collapsed": false
   },
   "outputs": [
    {
     "name": "stdout",
     "output_type": "stream",
     "text": [
      "42\n"
     ]
    }
   ],
   "source": [
    "f=open('bear_alignment/RF02542.folded').readlines()\n",
    "print len(f)"
   ]
  },
  {
   "cell_type": "code",
   "execution_count": null,
   "metadata": {
    "collapsed": false
   },
   "outputs": [],
   "source": []
  },
  {
   "cell_type": "code",
   "execution_count": 22,
   "metadata": {
    "collapsed": true
   },
   "outputs": [],
   "source": [
    "def decode(bear):\n",
    "    alph_bear={'abc':'a', 'def':'A', 'ghi=':'=',\n",
    "          'lmnop':'l', 'qrstu':'L', 'vwxyz^':'^',\n",
    "          '!\"#': 'i', '$%&':'I', '\\'()+':'+',\n",
    "          '234':'n', '567':'N', '890>':'>',\n",
    "          'ABC':'s', 'DEF':'S', 'GHIJ':'~',\n",
    "          'KLMN':'b', 'OPQR':'B', 'STUVW':'|',\n",
    "          'YZ~':'y', '?_|':'Y', '/\\\\@':'@',\n",
    "          '{}[]':'[', ':':':' , '-':'-'}\n",
    "    \n",
    "    result=\"\"\n",
    "    for ch in bear:\n",
    "        for key in alph_bear:\n",
    "            if ch in key:\n",
    "                result += alph_bear[key]\n",
    "    return result"
   ]
  },
  {
   "cell_type": "code",
   "execution_count": 23,
   "metadata": {
    "collapsed": false
   },
   "outputs": [
    {
     "name": "stdout",
     "output_type": "stream",
     "text": [
      "{'lmnop': 'l', 'YZ~': 'y', 'ghi=': '=', 'GHIJ': '~', \"'()+\": '+', '234': 'n', '?_|': 'Y', 'DEF': 'S', 'vwxyz^': '^', 'abc': 'a', '{}[]': '[', '-': '-', 'STUVW': '|', '\\\\/@': '@', '890>': '>', ':': ':', 'qrstu': 'L', '$%&': 'I', 'ABC': 's', '567': 'N', '!\"#': 'i', 'OPQR': 'B', 'KLMN': 'b', 'def': 'A'}\n"
     ]
    }
   ],
   "source": [
    "alph_bear={'abc':'a', 'def':'A', 'ghi=':'=',\n",
    "          'lmnop':'l', 'qrstu':'L', 'vwxyz^':'^',\n",
    "          '!\"#': 'i', '$%&':'I', '\\'()+':'+',\n",
    "          '234':'n', '567':'N', '890>':'>',\n",
    "          'ABC':'s', 'DEF':'S', 'GHIJ':'~',\n",
    "          'KLMN':'b', 'OPQR':'B', 'STUVW':'|',\n",
    "          'YZ~':'y', '?_|':'Y', '\\\\/@':'@',\n",
    "          '{}[]':'[', ':':':' , '-':'-'}\n",
    "\n",
    "print alph_bear"
   ]
  },
  {
   "cell_type": "code",
   "execution_count": 27,
   "metadata": {
    "collapsed": false
   },
   "outputs": [
    {
     "name": "stdout",
     "output_type": "stream",
     "text": [
      "1753\n",
      "1753\n",
      "1753\n",
      "1753\n",
      "1753\n",
      "1753\n",
      "1753\n",
      "1753\n",
      "1753\n",
      "1753\n",
      "1753\n",
      "1753\n",
      "1753\n",
      "1753\n",
      "1753\n",
      "1753\n",
      "1753\n",
      "1753\n",
      "1753\n",
      "1753\n",
      "1753\n",
      "1753\n",
      "1753\n",
      "1753\n",
      "1753\n",
      "1753\n",
      "1753\n",
      "1753\n",
      "1753\n",
      "1753\n",
      "1753\n",
      "1753\n",
      "1753\n",
      "1753\n",
      "1753\n",
      "1753\n",
      "1753\n",
      "1753\n",
      "1753\n",
      "1753\n",
      "1753\n",
      "1753\n"
     ]
    }
   ],
   "source": [
    "o=open('bear_new_alignment/RF02542.folded', \"w\")\n",
    "f=open('bear_alignment/RF02542.folded')\n",
    "line=f.readline()\n",
    "while(line):\n",
    "    print len(line)\n",
    "    o.write(decode(line)+\"\\n\")\n",
    "    line=f.readline()\n",
    "o.close()"
   ]
  },
  {
   "cell_type": "code",
   "execution_count": null,
   "metadata": {
    "collapsed": false
   },
   "outputs": [],
   "source": []
  },
  {
   "cell_type": "code",
   "execution_count": null,
   "metadata": {
    "collapsed": false
   },
   "outputs": [],
   "source": []
  },
  {
   "cell_type": "code",
   "execution_count": null,
   "metadata": {
    "collapsed": true
   },
   "outputs": [],
   "source": []
  }
 ],
 "metadata": {
  "anaconda-cloud": {},
  "kernelspec": {
   "display_name": "Python [conda root]",
   "language": "python",
   "name": "conda-root-py"
  },
  "language_info": {
   "codemirror_mode": {
    "name": "ipython",
    "version": 2
   },
   "file_extension": ".py",
   "mimetype": "text/x-python",
   "name": "python",
   "nbconvert_exporter": "python",
   "pygments_lexer": "ipython2",
   "version": "2.7.12"
  }
 },
 "nbformat": 4,
 "nbformat_minor": 1
}
