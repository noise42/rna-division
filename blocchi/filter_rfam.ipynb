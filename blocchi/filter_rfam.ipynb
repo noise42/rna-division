{
 "cells": [
  {
   "cell_type": "code",
   "execution_count": 32,
   "metadata": {
    "collapsed": true
   },
   "outputs": [],
   "source": [
    "import os\n",
    "import subprocess"
   ]
  },
  {
   "cell_type": "code",
   "execution_count": 33,
   "metadata": {
    "collapsed": true
   },
   "outputs": [],
   "source": [
    "lista_fam=os.listdir('not_similar/')"
   ]
  },
  {
   "cell_type": "code",
   "execution_count": 39,
   "metadata": {
    "collapsed": false
   },
   "outputs": [
    {
     "name": "stdout",
     "output_type": "stream",
     "text": [
      "1269\n"
     ]
    }
   ],
   "source": [
    "c=0\n",
    "\n",
    "for fam in lista_fam:\n",
    "    output=subprocess.check_output(\"wc -l not_similar/\"+fam, shell=True)\n",
    "    if int(output.strip().split()[0])>=5:\n",
    "        c+=1\n",
    "        os.system('cp not_similar/'+fam+' not_similar_filtered/'+fam)\n",
    "\n",
    "        \n",
    "print c"
   ]
  },
  {
   "cell_type": "code",
   "execution_count": 40,
   "metadata": {
    "collapsed": false
   },
   "outputs": [
    {
     "name": "stdout",
     "output_type": "stream",
     "text": [
      "2685\n"
     ]
    }
   ],
   "source": [
    "print len(lista_fam)"
   ]
  },
  {
   "cell_type": "code",
   "execution_count": 45,
   "metadata": {
    "collapsed": false
   },
   "outputs": [
    {
     "name": "stdout",
     "output_type": "stream",
     "text": [
      "1269\n"
     ]
    }
   ],
   "source": [
    "lista_fam_filter=os.listdir('not_similar_filtered/')\n",
    "print len(lista_fam_filter)"
   ]
  },
  {
   "cell_type": "code",
   "execution_count": 46,
   "metadata": {
    "collapsed": true
   },
   "outputs": [],
   "source": [
    "for fam_clean in lista_fam_filter:\n",
    "    seq=[]\n",
    "    f=open('not_similar_filtered/'+fam_clean).readlines()\n",
    "    for riga in f:\n",
    "        seq.append(riga.split()[0])\n",
    "    \n",
    "    o=open('bear_filtered/'+fam_clean, \"w\")\n",
    "    f2=open('bear/'+fam_clean)\n",
    "    line=f2.readline()\n",
    "    while(line):\n",
    "        if line[0]==\">\" and line[1:-1] in seq:\n",
    "            o.write(line)\n",
    "            line=f2.readline()\n",
    "            o.write(line)\n",
    "            line=f2.readline()\n",
    "            o.write(line)\n",
    "            line=f2.readline()\n",
    "            o.write(line)\n",
    "            line=f2.readline()\n",
    "        else:\n",
    "            line=f2.readline()\n",
    "    o.close()\n"
   ]
  },
  {
   "cell_type": "code",
   "execution_count": null,
   "metadata": {
    "collapsed": false
   },
   "outputs": [],
   "source": []
  },
  {
   "cell_type": "code",
   "execution_count": 49,
   "metadata": {
    "collapsed": false
   },
   "outputs": [
    {
     "name": "stdout",
     "output_type": "stream",
     "text": [
      "1270\n"
     ]
    }
   ],
   "source": [
    "lista_fam_filter2=os.listdir('bear_filtered/')\n",
    "print len(lista_fam_filter2)"
   ]
  },
  {
   "cell_type": "code",
   "execution_count": 50,
   "metadata": {
    "collapsed": false
   },
   "outputs": [
    {
     "name": "stdout",
     "output_type": "stream",
     "text": [
      "['.DS_Store']\n"
     ]
    }
   ],
   "source": [
    "print list(set(lista_fam_filter2)-set(lista_fam_filter))"
   ]
  },
  {
   "cell_type": "code",
   "execution_count": null,
   "metadata": {
    "collapsed": true
   },
   "outputs": [],
   "source": []
  }
 ],
 "metadata": {
  "anaconda-cloud": {},
  "kernelspec": {
   "display_name": "Python [conda root]",
   "language": "python",
   "name": "conda-root-py"
  },
  "language_info": {
   "codemirror_mode": {
    "name": "ipython",
    "version": 2
   },
   "file_extension": ".py",
   "mimetype": "text/x-python",
   "name": "python",
   "nbconvert_exporter": "python",
   "pygments_lexer": "ipython2",
   "version": "2.7.12"
  }
 },
 "nbformat": 4,
 "nbformat_minor": 1
}
