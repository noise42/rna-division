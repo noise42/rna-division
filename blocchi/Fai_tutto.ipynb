{
 "cells": [
  {
   "cell_type": "code",
   "execution_count": null,
   "metadata": {
    "collapsed": true
   },
   "outputs": [],
   "source": [
    "def CheVojDePiu(folder, folder_bear, RFAM_seed_file, id_blustClust, filtro_nSeq, file_alph):\n",
    "    name=file_alph.split('.')[0]\n",
    "    f=open(file_alph).readlines()\n",
    "    fun.run_blustClust(folder, id_blustClust, name, id_blustClust)\n",
    "    fun.filtro_n_seq('not_similar'+name+'_'+identity+'/', filtro_nSeq, name, id_blustClust)\n",
    "    fun.get_bear('filtro_n_seq'+name+'_'+identity+'/', folder_bear, name, id_blustClust)\n",
    "    fun.add_gap('bear_filtered'+name+'_'+identity+'/', RFAM_seed_file, name, id_blustClust)\n",
    "    fun.convert_new_bear_file('bear_alignment'+name+'_'+identity+'/', file_alph, name, id_blustClust)\n",
    "\n",
    "    fun.crea_blocchi('bear_new_alignment'+name+'_'+identity+'/', name, id_blustClust)\n",
    "    \n",
    "    v_char=[x.split()[1] for x in f]\n",
    "    sost=fun.sostituzioni_osservate('blocchi_new_bear'+name+'_'+identity+'/', v_char, name, id_blustClust)\n",
    "\n",
    "    q_ij=fun.make_q(sost, v_char, name, id_blustClust) \n",
    "\n",
    "    p_i=fun.make_p(q_ij, v_char)\n",
    "\n",
    "    e_ij=fun.make_e(p_i, v_char, name, id_blustClust)\n",
    "\n",
    "    S_ij=fun.crea_matrice(q_ij, e_ij, name, id_blustClust)\n",
    "    \n",
    "    E=fun.Expected_score(S_ij, p_i)\n",
    "    H=fun.entropy(q_ij, S_ij)\n",
    "    fun.make_heatmap(S_ij, name, id_blustClust)"
   ]
  },
  {
   "cell_type": "code",
   "execution_count": null,
   "metadata": {
    "collapsed": false
   },
   "outputs": [],
   "source": []
  }
 ],
 "metadata": {
  "anaconda-cloud": {},
  "kernelspec": {
   "display_name": "Python [conda root]",
   "language": "python",
   "name": "conda-root-py"
  },
  "language_info": {
   "codemirror_mode": {
    "name": "ipython",
    "version": 2
   },
   "file_extension": ".py",
   "mimetype": "text/x-python",
   "name": "python",
   "nbconvert_exporter": "python",
   "pygments_lexer": "ipython2",
   "version": "2.7.12"
  }
 },
 "nbformat": 4,
 "nbformat_minor": 1
}
