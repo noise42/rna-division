{
 "cells": [
  {
   "cell_type": "code",
   "execution_count": 1,
   "metadata": {
    "collapsed": true
   },
   "outputs": [],
   "source": [
    "from collections import Counter\n",
    "import os\n",
    "import pandas as pd\n",
    "import numpy as np\n",
    "import seaborn as sns\n",
    "import matplotlib.pyplot as plt\n",
    "import re\n",
    "import subprocess"
   ]
  },
  {
   "cell_type": "code",
   "execution_count": 2,
   "metadata": {
    "collapsed": true
   },
   "outputs": [],
   "source": [
    "def distributeGaps(gappedReference, ungappedString):\n",
    "    assert len(gappedReference.replace('-','')) == len(ungappedString), 'ungapped strings should be equal' \n",
    "    result = list(ungappedString)\n",
    "    gaplist = [ m.start() for m in re.finditer('-', gappedReference)]\n",
    "\n",
    "    for gap in gaplist:    \n",
    "        result.insert(gap, '-')\n",
    "    result = \"\".join(result)    \n",
    "    return result\n",
    "\n",
    "assert(distributeGaps('--abcdef-g-', 'bombasi') == '--bombas-i-')"
   ]
  },
  {
   "cell_type": "code",
   "execution_count": 3,
   "metadata": {
    "collapsed": true
   },
   "outputs": [],
   "source": [
    "def decode(bear):\n",
    "    alph_bear={'abc':'a', 'def':'A', 'ghi=':'=',\n",
    "          'lmnop':'l', 'qrstu':'L', 'vwxyz^':'^',\n",
    "          '!\"#': 'i', '$%&':'I', '\\'()+':'+',\n",
    "          '234':'n', '567':'N', '890>':'>',\n",
    "          'ABC':'s', 'DEF':'S', 'GHIJ':'~',\n",
    "          'KLMN':'b', 'OPQR':'B', 'STUVW':'|',\n",
    "          'YZ~':'y', '?_|':'Y', '/\\\\@':'@',\n",
    "          '{}[]':'[', ':':':' , '-':'-'}\n",
    "    \n",
    "    result=\"\"\n",
    "    for ch in bear:\n",
    "        for key in alph_bear:\n",
    "            if ch in key:\n",
    "                result += alph_bear[key]\n",
    "    return result"
   ]
  },
  {
   "cell_type": "code",
   "execution_count": 4,
   "metadata": {
    "collapsed": true
   },
   "outputs": [],
   "source": [
    "def distribuzione_2punti(cartella):\n",
    "    famiglie_bear=os.listdir(cartella)\n",
    "    conta_2punti=[]\n",
    "    for famiglia in famiglie_bear:\n",
    "        f=open(cartella+'/'+famiglia)\n",
    "        line=f.readline()\n",
    "        while(line):\n",
    "            c=Counter(line)\n",
    "            conta_2punti.append(float(c[':'])/(len(line)-c['-']))\n",
    "            line=f.readline()\n",
    "\n",
    "\n",
    "    plt.hist(conta_2punti, bins=50)\n",
    "    plt.ylim([0, 4000])\n",
    "    plt.savefig('distribution_2punti_no_gap.pdf')\n",
    "    plt.show()\n",
    "    plt.close()"
   ]
  },
  {
   "cell_type": "code",
   "execution_count": 5,
   "metadata": {
    "collapsed": true
   },
   "outputs": [],
   "source": [
    "def filtro_nSeq(cartella):\n",
    "    os.system('mkdir filtro_n_seq/')\n",
    "    lista_fam=os.listdir(cartella)\n",
    "    \n",
    "    #creo una nuova cartella dove copio solo \n",
    "    for fam in lista_fam:\n",
    "        output=subprocess.check_output(\"wc -l\"+cartella+fam, shell=True)\n",
    "        if int(output.strip().split()[0])>=n_seq_family:\n",
    "               \n",
    "            os.system('cp '+cartella+'/'+fam+' filtro_n_seq/'+fam)\n",
    "                \n",
    "    print 'fine filtro 5 sequenze'"
   ]
  },
  {
   "cell_type": "code",
   "execution_count": null,
   "metadata": {
    "collapsed": true
   },
   "outputs": [],
   "source": [
    "def get_bear_seq(cartella)\n",
    "#prendo bear delle sequenze in filtro_n_seq\n",
    "    os.system('mkdir bear_filtered/')\n",
    "    lista_fam_filter=os.listdir(cartella)\n",
    "    for fam_clean in lista_fam_filter:\n",
    "        seq=[]\n",
    "        f=open('not_similar_filtered/'+fam_clean).readlines()\n",
    "        for riga in f:\n",
    "            seq.append(riga.split()[0])\n",
    "\n",
    "        o=open('bear_filtered/'+fam_clean, \"w\")\n",
    "        f2=open(cartella_bear+fam_clean)\n",
    "        line=f2.readline()\n",
    "        while(line):\n",
    "            if line[0]==\">\" and line[1:-1] in seq:\n",
    "                o.write(line)\n",
    "                line=f2.readline()\n",
    "                o.write(line)\n",
    "                line=f2.readline()\n",
    "                o.write(line)\n",
    "                line=f2.readline()\n",
    "                o.write(line)\n",
    "                line=f2.readline()\n",
    "            else:\n",
    "                line=f2.readline()\n",
    "        o.close()\n",
    "        \n",
    "    print 'fine Bear sequence research'"
   ]
  }
 ],
 "metadata": {
  "anaconda-cloud": {},
  "kernelspec": {
   "display_name": "Python [conda root]",
   "language": "python",
   "name": "conda-root-py"
  },
  "language_info": {
   "codemirror_mode": {
    "name": "ipython",
    "version": 2
   },
   "file_extension": ".py",
   "mimetype": "text/x-python",
   "name": "python",
   "nbconvert_exporter": "python",
   "pygments_lexer": "ipython2",
   "version": "2.7.12"
  }
 },
 "nbformat": 4,
 "nbformat_minor": 1
}
