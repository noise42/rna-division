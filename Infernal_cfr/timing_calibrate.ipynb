{
 "cells": [
  {
   "cell_type": "code",
   "execution_count": 6,
   "metadata": {
    "collapsed": false
   },
   "outputs": [],
   "source": [
    "f=open('time_calibrate.txt').readlines()\n",
    "timeList=[]\n",
    "for riga in f:\n",
    "    timeList.append(riga.split()[1])"
   ]
  },
  {
   "cell_type": "code",
   "execution_count": 9,
   "metadata": {
    "collapsed": false
   },
   "outputs": [
    {
     "name": "stdout",
     "output_type": "stream",
     "text": [
      "112:32:59\n"
     ]
    }
   ],
   "source": [
    "#timeList = [ '0:00:00', '0:00:15', '9:30:56' ]\n",
    "totalSecs = 0\n",
    "for tm in timeList:\n",
    "    timeParts = [int(s) for s in tm.split(':')]\n",
    "    totalSecs += (timeParts[0] * 60 + timeParts[1]) * 60 + timeParts[2]\n",
    "totalSecs, sec = divmod(totalSecs, 60)\n",
    "hr, min = divmod(totalSecs, 60)\n",
    "print \"%d:%02d:%02d\" % (hr, min, sec)"
   ]
  },
  {
   "cell_type": "code",
   "execution_count": null,
   "metadata": {
    "collapsed": true
   },
   "outputs": [],
   "source": []
  }
 ],
 "metadata": {
  "anaconda-cloud": {},
  "kernelspec": {
   "display_name": "Python [conda root]",
   "language": "python",
   "name": "conda-root-py"
  },
  "language_info": {
   "codemirror_mode": {
    "name": "ipython",
    "version": 2
   },
   "file_extension": ".py",
   "mimetype": "text/x-python",
   "name": "python",
   "nbconvert_exporter": "python",
   "pygments_lexer": "ipython2",
   "version": "2.7.12"
  }
 },
 "nbformat": 4,
 "nbformat_minor": 1
}
