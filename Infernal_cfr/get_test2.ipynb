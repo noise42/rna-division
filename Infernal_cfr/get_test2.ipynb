{
 "cells": [
  {
   "cell_type": "code",
   "execution_count": 1,
   "metadata": {
    "collapsed": true
   },
   "outputs": [],
   "source": [
    "import pickle"
   ]
  },
  {
   "cell_type": "code",
   "execution_count": 7,
   "metadata": {
    "collapsed": true
   },
   "outputs": [],
   "source": [
    "with open('fam_dict.pickle', 'rb') as handle:\n",
    "    diz_fam = pickle.load(handle)"
   ]
  },
  {
   "cell_type": "code",
   "execution_count": 12,
   "metadata": {
    "collapsed": false
   },
   "outputs": [],
   "source": [
    "a=open('all_test2.txt').readlines()"
   ]
  },
  {
   "cell_type": "code",
   "execution_count": 20,
   "metadata": {
    "collapsed": false
   },
   "outputs": [],
   "source": [
    "o=open('test_sequences.txt', \"w\")\n",
    "ignore_these_families = ['RF00210','RF01879', 'RF02767', 'RF02768','RF02770', 'RF02773', 'RF02775','RF02781', 'RF02783']\n",
    "for coppia in a:\n",
    "    famiglia=coppia.split()[0]\n",
    "    nome=coppia.split()[1]\n",
    "    if famiglia not in ignore_these_families:\n",
    "        o.write(nome+\"|\"+famiglia+\"\\n\"+diz_fam[famiglia][nome]['sequence']+\"\\n\")\n",
    "o.close()\n",
    "    "
   ]
  },
  {
   "cell_type": "code",
   "execution_count": null,
   "metadata": {
    "collapsed": false
   },
   "outputs": [],
   "source": []
  },
  {
   "cell_type": "code",
   "execution_count": null,
   "metadata": {
    "collapsed": true
   },
   "outputs": [],
   "source": []
  }
 ],
 "metadata": {
  "kernelspec": {
   "display_name": "Python [conda env:py36]",
   "language": "python",
   "name": "conda-env-py36-py"
  },
  "language_info": {
   "codemirror_mode": {
    "name": "ipython",
    "version": 3
   },
   "file_extension": ".py",
   "mimetype": "text/x-python",
   "name": "python",
   "nbconvert_exporter": "python",
   "pygments_lexer": "ipython3",
   "version": "3.6.4"
  }
 },
 "nbformat": 4,
 "nbformat_minor": 1
}
