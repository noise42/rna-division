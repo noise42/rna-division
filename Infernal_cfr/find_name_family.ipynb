{
 "cells": [
  {
   "cell_type": "code",
   "execution_count": 7,
   "metadata": {
    "collapsed": false
   },
   "outputs": [],
   "source": [
    "f=open('rmark_new.msa')\n",
    "o=open('mapping_name_family.txt',\"w\")\n",
    "line=f.readline()\n",
    "while(line):\n",
    "    #print line.split()\n",
    "    if len(line.split())>2:\n",
    "        if line.split()[0]=='#=GF':\n",
    "            if line.split()[1]=='ID' or line.split()[1]=='AC':\n",
    "                a=line.split()[2]\n",
    "                if a[0:3]=='RF':\n",
    "                    o.write(a+\"\\n\")\n",
    "                else:\n",
    "                    o.write(a+\"\\t\")\n",
    "    line=f.readline()\n",
    "o.close()\n"
   ]
  },
  {
   "cell_type": "code",
   "execution_count": null,
   "metadata": {
    "collapsed": true
   },
   "outputs": [],
   "source": []
  }
 ],
 "metadata": {
  "anaconda-cloud": {},
  "kernelspec": {
   "display_name": "Python [conda root]",
   "language": "python",
   "name": "conda-root-py"
  },
  "language_info": {
   "codemirror_mode": {
    "name": "ipython",
    "version": 2
   },
   "file_extension": ".py",
   "mimetype": "text/x-python",
   "name": "python",
   "nbconvert_exporter": "python",
   "pygments_lexer": "ipython2",
   "version": "2.7.12"
  }
 },
 "nbformat": 4,
 "nbformat_minor": 1
}
