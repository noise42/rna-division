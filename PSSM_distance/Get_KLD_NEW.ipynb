{
 "cells": [
  {
   "cell_type": "code",
   "execution_count": 1,
   "metadata": {
    "collapsed": true
   },
   "outputs": [],
   "source": [
    "import pickle\n",
    "import pandas as pd\n",
    "import numpy as np\n",
    "import itertools\n",
    "import Function_distance_PSSM as fun\n",
    "import sys"
   ]
  },
  {
   "cell_type": "code",
   "execution_count": 2,
   "metadata": {
    "collapsed": false
   },
   "outputs": [],
   "source": [
    "#load dictionary of matrix\n",
    "with open('rfam_PPM_dic_qbear_50.pickle', 'rb') as afile:\n",
    "        PPM_dic=pickle.load(afile)\n",
    "        \n",
    "with open('rfam_PSSM_dic_qbear_50.pickle', 'rb') as afile:\n",
    "        PSSM_dic=pickle.load(afile)"
   ]
  },
  {
   "cell_type": "code",
   "execution_count": 3,
   "metadata": {
    "collapsed": false
   },
   "outputs": [],
   "source": [
    "fam=list(PSSM_dic.keys())\n",
    "coppie=list(itertools.combinations(fam,2))\n",
    "c_min=0\n",
    "c_max=1"
   ]
  },
  {
   "cell_type": "code",
   "execution_count": 4,
   "metadata": {
    "collapsed": false
   },
   "outputs": [],
   "source": [
    "o=open('coppie.txt', \"w\")\n",
    "for coppia in coppie:\n",
    "    o.write(coppia[0]+\"\\t\"+coppia[1]+\"\\n\")\n",
    "o.close()"
   ]
  },
  {
   "cell_type": "code",
   "execution_count": null,
   "metadata": {
    "collapsed": true
   },
   "outputs": [],
   "source": []
  },
  {
   "cell_type": "code",
   "execution_count": 5,
   "metadata": {
    "collapsed": false
   },
   "outputs": [],
   "source": [
    "c=open('coppie.txt').readlines()\n",
    "coppie=[x.split() for x in c]\n",
    "#print(coppie)"
   ]
  },
  {
   "cell_type": "code",
   "execution_count": 17,
   "metadata": {
    "collapsed": false
   },
   "outputs": [
    {
     "name": "stdout",
     "output_type": "stream",
     "text": [
      "CPU times: user 4.05 s, sys: 55.9 ms, total: 4.1 s\n",
      "Wall time: 4.21 s\n"
     ]
    }
   ],
   "source": [
    "%%time\n",
    "c=0\n",
    "for coppia in coppie:\n",
    "    diff=len(PSSM_dic[coppia[0]][0])-len(PSSM_dic[coppia[1]][0])\n",
    "    if diff>=0:\n",
    "        c+=diff\n",
    "    else:\n",
    "        c+=-diff\n"
   ]
  },
  {
   "cell_type": "code",
   "execution_count": 18,
   "metadata": {
    "collapsed": false
   },
   "outputs": [
    {
     "name": "stdout",
     "output_type": "stream",
     "text": [
      "400717370\n"
     ]
    }
   ],
   "source": [
    "print(c)"
   ]
  },
  {
   "cell_type": "code",
   "execution_count": 6,
   "metadata": {
    "collapsed": false
   },
   "outputs": [
    {
     "name": "stdout",
     "output_type": "stream",
     "text": [
      "('RF00001', 'RF00002')\n",
      "207\n",
      "23\n",
      "diff>0\n",
      "CPU times: user 6.69 s, sys: 48.6 ms, total: 6.73 s\n",
      "Wall time: 6.82 s\n"
     ]
    }
   ],
   "source": [
    "%%time\n",
    "d_KLD_family={}\n",
    "\n",
    "for coppia in coppie[c_min:c_max]:\n",
    "    print(coppia)\n",
    "    d_KLD_family[coppia]=[]\n",
    "    \n",
    "    \n",
    "    PSSM_q=pd.DataFrame(PSSM_dic[coppia[0]])\n",
    "    PPM_q=pd.DataFrame(PPM_dic[coppia[0]])\n",
    "    \n",
    "    PSSM_t=pd.DataFrame(PSSM_dic[coppia[1]])\n",
    "    PPM_t=pd.DataFrame(PPM_dic[coppia[1]])\n",
    "\n",
    "    l_finestra=min(len(PSSM_q.columns.values),len(PSSM_t.columns.values))\n",
    "    print(l_finestra)\n",
    "    diff=len(PSSM_q.columns.values)-len(PSSM_t.columns.values)\n",
    "    print(diff)\n",
    "    \n",
    "    kld_fin=fun.KLD_fin(l_finestra, diff, PPM_q, PPM_t, PSSM_q, PSSM_t, PSSM_q.shape[0])\n",
    "    \n",
    "    d_KLD_family[coppia]=kld_fin"
   ]
  },
  {
   "cell_type": "code",
   "execution_count": 9,
   "metadata": {
    "collapsed": false
   },
   "outputs": [
    {
     "name": "stdout",
     "output_type": "stream",
     "text": [
      "2.18 ms ± 113 µs per loop (mean ± std. dev. of 7 runs, 100 loops each)\n"
     ]
    }
   ],
   "source": [
    "%%timeit\n",
    "fun.make_kdl(19,pd.DataFrame(PPM_dic['RF00001']), pd.DataFrame(PPM_dic['RF00002']), pd.DataFrame(PSSM_dic['RF00001']), pd.DataFrame(PSSM_dic['RF00002']), 0, 0)"
   ]
  },
  {
   "cell_type": "code",
   "execution_count": 18,
   "metadata": {
    "collapsed": false
   },
   "outputs": [
    {
     "name": "stdout",
     "output_type": "stream",
     "text": [
      "3581826\n"
     ]
    }
   ],
   "source": [
    "print(len(coppie))"
   ]
  },
  {
   "cell_type": "code",
   "execution_count": 19,
   "metadata": {
    "collapsed": false
   },
   "outputs": [
    {
     "name": "stdout",
     "output_type": "stream",
     "text": [
      "diff>0\n",
      "CPU times: user 15.1 s, sys: 57.3 ms, total: 15.1 s\n",
      "Wall time: 15.2 s\n"
     ]
    }
   ],
   "source": [
    "%%time\n",
    "d_KLD_family[coppia]=[]\n",
    "    \n",
    "    \n",
    "PSSM_q=pd.DataFrame(PSSM_dic['RF00001'])\n",
    "PPM_q=pd.DataFrame(PPM_dic['RF00001'])\n",
    "    \n",
    "PSSM_t=pd.DataFrame(PSSM_dic['RF00005'])\n",
    "PPM_t=pd.DataFrame(PPM_dic['RF00005'])\n",
    "\n",
    "l_finestra=min(len(PSSM_q.columns.values),len(PSSM_t.columns.values))\n",
    "diff=len(PSSM_q.columns.values)-len(PSSM_t.columns.values)\n",
    "#print(diff)\n",
    "    \n",
    "kld_fin=fun.KLD_fin(l_finestra, diff, PPM_q, PPM_t, PSSM_q, PSSM_t, PSSM_q.shape[0])\n",
    "    \n",
    "d_KLD_family[coppia]=kld_fin"
   ]
  },
  {
   "cell_type": "code",
   "execution_count": null,
   "metadata": {
    "collapsed": false
   },
   "outputs": [],
   "source": []
  },
  {
   "cell_type": "code",
   "execution_count": null,
   "metadata": {
    "collapsed": true
   },
   "outputs": [],
   "source": []
  }
 ],
 "metadata": {
  "anaconda-cloud": {},
  "kernelspec": {
   "display_name": "Python [conda env:py36]",
   "language": "python",
   "name": "conda-env-py36-py"
  },
  "language_info": {
   "codemirror_mode": {
    "name": "ipython",
    "version": 3
   },
   "file_extension": ".py",
   "mimetype": "text/x-python",
   "name": "python",
   "nbconvert_exporter": "python",
   "pygments_lexer": "ipython3",
   "version": "3.6.4"
  }
 },
 "nbformat": 4,
 "nbformat_minor": 1
}
