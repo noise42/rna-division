{
 "cells": [
  {
   "cell_type": "code",
   "execution_count": 1,
   "metadata": {
    "collapsed": false
   },
   "outputs": [],
   "source": [
    "import pickle\n",
    "import pandas as pd\n",
    "import numpy as np\n",
    "import itertools\n",
    "import Function_distance_PSSM as fun"
   ]
  },
  {
   "cell_type": "code",
   "execution_count": 3,
   "metadata": {
    "collapsed": true
   },
   "outputs": [],
   "source": [
    "#load dictionary of matrix\n",
    "\n",
    "with open('rfam_PPM_dic_qbear_50.pickle', 'rb') as afile:\n",
    "    PPM_dic=pickle.load(afile)\n"
   ]
  },
  {
   "cell_type": "code",
   "execution_count": 4,
   "metadata": {
    "collapsed": true
   },
   "outputs": [],
   "source": [
    "with open('rfam_PSSM_dic_qbear_50.pickle', 'rb') as afile:\n",
    "    PSSM_dic = pickle.load(afile)"
   ]
  },
  {
   "cell_type": "code",
   "execution_count": null,
   "metadata": {
    "collapsed": false
   },
   "outputs": [],
   "source": []
  },
  {
   "cell_type": "code",
   "execution_count": 15,
   "metadata": {
    "collapsed": false
   },
   "outputs": [],
   "source": [
    "PSSM_q=pd.DataFrame(PSSM_dic['RF00001'])\n",
    "PPM_q=pd.DataFrame(PPM_dic['RF00001'])\n",
    "    \n",
    "PSSM_t=pd.DataFrame(PSSM_dic['RF00002'])\n",
    "PPM_t=pd.DataFrame(PPM_dic['RF00002'])"
   ]
  },
  {
   "cell_type": "code",
   "execution_count": null,
   "metadata": {
    "collapsed": false
   },
   "outputs": [],
   "source": []
  },
  {
   "cell_type": "code",
   "execution_count": 16,
   "metadata": {
    "collapsed": false
   },
   "outputs": [
    {
     "name": "stdout",
     "output_type": "stream",
     "text": [
      "diff>0\n",
      "[137.24199744893477, 141.55076807743882, 136.92173254513673, 139.6850066061019, 143.03794311722473, 139.9168762634132, 139.75489994990764, 130.96379426763446, 129.61087884571538, 130.80418687205707, 132.97922340798104, 132.29653327198227, 135.57547255761543, 138.93401837241154, 146.7571794761292, 149.24124235470276, 143.09584679572245, 142.8117713307607, 131.24270655163656, 134.2351093003714, 136.2614505359612, 139.46544202333817, 141.55510671746447]\n"
     ]
    }
   ],
   "source": [
    "l_finestra=min(len(PSSM_q.columns.values),len(PSSM_t.columns.values))\n",
    "diff=len(PSSM_q.columns.values)-len(PSSM_t.columns.values)\n",
    "    \n",
    "kld_fin=fun.KLD_fin(l_finestra, diff, PPM_q, PPM_t, PSSM_q, PSSM_t, PSSM_q.shape[0])\n",
    "    \n",
    "print(kld_fin)"
   ]
  },
  {
   "cell_type": "code",
   "execution_count": null,
   "metadata": {
    "collapsed": false
   },
   "outputs": [],
   "source": []
  },
  {
   "cell_type": "code",
   "execution_count": null,
   "metadata": {
    "collapsed": false
   },
   "outputs": [],
   "source": []
  },
  {
   "cell_type": "code",
   "execution_count": null,
   "metadata": {
    "collapsed": false
   },
   "outputs": [],
   "source": []
  },
  {
   "cell_type": "code",
   "execution_count": null,
   "metadata": {
    "collapsed": true
   },
   "outputs": [],
   "source": []
  },
  {
   "cell_type": "code",
   "execution_count": null,
   "metadata": {
    "collapsed": false
   },
   "outputs": [],
   "source": []
  },
  {
   "cell_type": "code",
   "execution_count": null,
   "metadata": {
    "collapsed": true
   },
   "outputs": [],
   "source": []
  }
 ],
 "metadata": {
  "anaconda-cloud": {},
  "kernelspec": {
   "display_name": "Python [conda env:py36]",
   "language": "python",
   "name": "conda-env-py36-py"
  },
  "language_info": {
   "codemirror_mode": {
    "name": "ipython",
    "version": 3
   },
   "file_extension": ".py",
   "mimetype": "text/x-python",
   "name": "python",
   "nbconvert_exporter": "python",
   "pygments_lexer": "ipython3",
   "version": "3.6.4"
  }
 },
 "nbformat": 4,
 "nbformat_minor": 1
}
