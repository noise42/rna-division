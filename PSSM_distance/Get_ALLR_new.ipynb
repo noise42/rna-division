{
 "cells": [
  {
   "cell_type": "code",
   "execution_count": 5,
   "metadata": {
    "collapsed": true
   },
   "outputs": [],
   "source": [
    "import pickle\n",
    "import pandas as pd\n",
    "import numpy as np\n",
    "import itertools\n",
    "import Function_distance_PSSM as fun"
   ]
  },
  {
   "cell_type": "code",
   "execution_count": 2,
   "metadata": {
    "collapsed": false
   },
   "outputs": [],
   "source": [
    "def ALLR_fin(l_finestra, diff, PFM_q, PFM_t, PSSM_q, PSSM_t):\n",
    "    allr_finestre=[]\n",
    "    if diff<0: #se la PSSM query e piu piccola della target, scorro sulla target.\n",
    "        print('diff<0')\n",
    "        for shift in range(0, -diff):\n",
    "            allr_finestra=0\n",
    "            for x in range(0, l_finestra):\n",
    "                y=x+shift\n",
    "                tot_x=0\n",
    "                tot_y=0\n",
    "                den=0\n",
    "                for ch in range(0, 19):\n",
    "                    tot_x+=(PFM_q.iloc[ch, x]*PSSM_t.iloc[ch, y])\n",
    "                    tot_y+=(PFM_t.iloc[ch, y]*PSSM_q.loc[ch,x])\n",
    "                    den+=PFM_q.iloc[ch, x]+PFM_t.iloc[ch, y]\n",
    "                num=tot_x+tot_y\n",
    "                allr_finestra+=(num/den)\n",
    "            allr_finestre.append(allr_finestra)  \n",
    "              \n",
    "            \n",
    "            \n",
    "    elif diff>0: #se la PSSM query e piu grande della target, scorro sulla query.\n",
    "        print('diff>0')\n",
    "        for shift in range(0, diff):\n",
    "            allr_finestra=0\n",
    "            for y in range(0, l_finestra):\n",
    "                x=y+shift\n",
    "                tot_x=0\n",
    "                tot_y=0\n",
    "                den=0\n",
    "                for ch in range(0, 19):\n",
    "                    tot_x+=(PFM_q.iloc[ch, x]*PSSM_t.iloc[ch, y])\n",
    "                    tot_y+=(PFM_t.iloc[ch, y]*PSSM_q.loc[ch,x])\n",
    "                    den+=PFM_q.iloc[ch, x]+PFM_t.iloc[ch, y]\n",
    "                num=tot_x+tot_y\n",
    "                allr_finestra+=(num/den)\n",
    "            allr_finestre.append(allr_finestra)\n",
    "    else:\n",
    "        print('diff==0')\n",
    "        allr_finestra=0\n",
    "        for y in range(0, l_finestra):\n",
    "            x=y\n",
    "            tot_x=0\n",
    "            tot_y=0\n",
    "            den=0\n",
    "            for ch in range(0, 19):\n",
    "                tot_x+=(PFM_q.iloc[ch, x]*PSSM_t.iloc[ch, y])\n",
    "                tot_y+=(PFM_t.iloc[ch, y]*PSSM_q.loc[ch,x])\n",
    "                den+=PFM_q.iloc[ch, x]+PFM_t.iloc[ch, y]\n",
    "            num=tot_x+tot_y\n",
    "            allr_finestra+=(num/den)\n",
    "        allr_finestre.append(allr_finestra)\n",
    "    return allr_finestre"
   ]
  },
  {
   "cell_type": "code",
   "execution_count": 6,
   "metadata": {
    "collapsed": false
   },
   "outputs": [],
   "source": [
    "#load dictionary of matrix\n",
    "\n",
    "with open('rfam_PFM_family_dic.pickle', 'rb') as afile:\n",
    "        PFM_dic=pickle.load(afile)\n",
    "        \n",
    "with open('rfam_PSSM_family_dic.pickle', 'rb') as afile:\n",
    "        PSSM_dic=pickle.load(afile)"
   ]
  },
  {
   "cell_type": "code",
   "execution_count": 7,
   "metadata": {
    "collapsed": true
   },
   "outputs": [],
   "source": [
    "PSSM_q=pd.DataFrame(PSSM_dic['RF00001'])\n",
    "PFM_q=pd.DataFrame(PFM_dic['RF00001'])\n",
    "    \n",
    "PSSM_t=pd.DataFrame(PSSM_dic['RF00001'])\n",
    "PFM_t=pd.DataFrame(PFM_dic['RF00001'])"
   ]
  },
  {
   "cell_type": "code",
   "execution_count": null,
   "metadata": {
    "collapsed": true
   },
   "outputs": [],
   "source": [
    "l_finestra=min(len(PSSM_q.columns.values),len(PSSM_t.columns.values))\n",
    "diff=len(PSSM_q.columns.values)-len(PSSM_t.columns.values)\n",
    "#print(diff)\n",
    "    \n",
    "allr_fin=ALLR_fin(l_finestra, diff, PFM_q, PFM_t, PSSM_q, PSSM_t,)\n",
    "    \n",
    "d_ALLR_family[coppi"
   ]
  },
  {
   "cell_type": "code",
   "execution_count": 18,
   "metadata": {
    "collapsed": false
   },
   "outputs": [
    {
     "name": "stdout",
     "output_type": "stream",
     "text": [
      "('RF00001', 'RF00002')\n",
      "diff>0\n",
      "[-1847.190982171633, -1872.6745036006325, -1845.2965470820498, -1867.953919885698, -1890.9383651359772, -1877.4742157659325, -1886.652821676763, -1840.5705091010095, -1842.852999731708, -1848.3051663442195, -1864.1453944642913, -1868.0493023086829, -1879.2823503479638, -1895.6684948561444, -1941.9373633595412, -1963.159203885154, -1916.5470922578231, -1922.2837758367273, -1850.7648573280835, -1858.1945987139673, -1867.7527243079498, -1884.391375068654, -1895.7418995814762]\n",
      "('RF00001', 'RF00003')\n",
      "diff>0\n",
      "[-2852.7437302292697, -2845.058466088727, -2845.2325842286523, -2773.835087928574, -2817.8659907582714, -2863.0185047984032, -2842.427887103464, -2861.2093709308833, -2832.589902141652, -2785.807601020011, -2748.8164510914175, -2642.4993617529426, -2612.438375259385, -2646.440745766291, -2659.5921287369115, -2746.6104297109036, -2687.519254999948, -2765.784635972772, -2837.4407252151586, -2845.5172006741795, -2828.8121585369395, -2846.208972710973, -2871.4290199895204, -2922.7888367836745, -2889.722418551075, -2893.1745593419173, -2921.283302684295]\n",
      "('RF00001', 'RF00004')\n",
      "diff<0\n",
      "[-6368.333854955452, -6264.7074934664215, -6295.158626947352, -6403.919040880321, -6433.145431042546, -6612.597026964992, -6696.603937336219, -6747.781993826114, -6821.229208512177, -6806.319988450568, -6842.0069779290325, -6812.184356464999, -6692.52686257153, -6602.136504906463, -6520.081667503042, -6500.440060483189, -6514.800914374355, -6514.774350294175, -6566.63763809519, -6603.631588843566, -6607.369254717291, -6533.285546583981, -6475.35557726309, -6508.191704235849, -6474.395492537696, -6447.261796216183, -6380.765018813777, -6411.768428145647, -6421.9764014255425, -6457.366165279821, -6424.737620895818, -6362.701777497198, -6218.757572271444, -6253.610619042074, -6258.2274115747705, -6260.662522046563, -6317.454057543873, -6268.453476800928, -6244.989215018015, -6254.796132504271, -6205.187547860895, -6237.069305926959, -6178.46080828816, -6172.270759084614, -6143.564113744573, -6032.049538301375, -6074.774959696167, -6054.103333329675]\n",
      "('RF00001', 'RF00005')\n",
      "diff>0\n"
     ]
    },
    {
     "ename": "KeyboardInterrupt",
     "evalue": "",
     "output_type": "error",
     "traceback": [
      "\u001b[0;31m---------------------------------------------------------------------------\u001b[0m",
      "\u001b[0;31mKeyboardInterrupt\u001b[0m                         Traceback (most recent call last)",
      "\u001b[0;32m<ipython-input-18-86c543e62391>\u001b[0m in \u001b[0;36m<module>\u001b[0;34m()\u001b[0m\n\u001b[1;32m     15\u001b[0m     \u001b[0;31m#print(diff)\u001b[0m\u001b[0;34m\u001b[0m\u001b[0;34m\u001b[0m\u001b[0m\n\u001b[1;32m     16\u001b[0m \u001b[0;34m\u001b[0m\u001b[0m\n\u001b[0;32m---> 17\u001b[0;31m     \u001b[0mallr_fin\u001b[0m\u001b[0;34m=\u001b[0m\u001b[0mALLR_fin\u001b[0m\u001b[0;34m(\u001b[0m\u001b[0ml_finestra\u001b[0m\u001b[0;34m,\u001b[0m \u001b[0mdiff\u001b[0m\u001b[0;34m,\u001b[0m \u001b[0mPFM_q\u001b[0m\u001b[0;34m,\u001b[0m \u001b[0mPFM_t\u001b[0m\u001b[0;34m,\u001b[0m \u001b[0mPSSM_q\u001b[0m\u001b[0;34m,\u001b[0m \u001b[0mPSSM_t\u001b[0m\u001b[0;34m)\u001b[0m\u001b[0;34m\u001b[0m\u001b[0m\n\u001b[0m\u001b[1;32m     18\u001b[0m \u001b[0;34m\u001b[0m\u001b[0m\n\u001b[1;32m     19\u001b[0m     \u001b[0md_ALLR_family\u001b[0m\u001b[0;34m[\u001b[0m\u001b[0mcoppia\u001b[0m\u001b[0;34m]\u001b[0m\u001b[0;34m=\u001b[0m\u001b[0mallr_fin\u001b[0m\u001b[0;34m\u001b[0m\u001b[0m\n",
      "\u001b[0;32m<ipython-input-16-0fc20fec88f0>\u001b[0m in \u001b[0;36mALLR_fin\u001b[0;34m(l_finestra, diff, PFM_q, PFM_t, PSSM_q, PSSM_t)\u001b[0m\n\u001b[1;32m     32\u001b[0m                     \u001b[0mtot_x\u001b[0m\u001b[0;34m+=\u001b[0m\u001b[0;34m(\u001b[0m\u001b[0mPFM_q\u001b[0m\u001b[0;34m.\u001b[0m\u001b[0miloc\u001b[0m\u001b[0;34m[\u001b[0m\u001b[0mch\u001b[0m\u001b[0;34m,\u001b[0m \u001b[0mx\u001b[0m\u001b[0;34m]\u001b[0m\u001b[0;34m*\u001b[0m\u001b[0mPSSM_t\u001b[0m\u001b[0;34m.\u001b[0m\u001b[0miloc\u001b[0m\u001b[0;34m[\u001b[0m\u001b[0mch\u001b[0m\u001b[0;34m,\u001b[0m \u001b[0my\u001b[0m\u001b[0;34m]\u001b[0m\u001b[0;34m)\u001b[0m\u001b[0;34m\u001b[0m\u001b[0m\n\u001b[1;32m     33\u001b[0m                     \u001b[0mtot_y\u001b[0m\u001b[0;34m+=\u001b[0m\u001b[0;34m(\u001b[0m\u001b[0mPFM_t\u001b[0m\u001b[0;34m.\u001b[0m\u001b[0miloc\u001b[0m\u001b[0;34m[\u001b[0m\u001b[0mch\u001b[0m\u001b[0;34m,\u001b[0m \u001b[0my\u001b[0m\u001b[0;34m]\u001b[0m\u001b[0;34m*\u001b[0m\u001b[0mPSSM_q\u001b[0m\u001b[0;34m.\u001b[0m\u001b[0mloc\u001b[0m\u001b[0;34m[\u001b[0m\u001b[0mch\u001b[0m\u001b[0;34m,\u001b[0m\u001b[0mx\u001b[0m\u001b[0;34m]\u001b[0m\u001b[0;34m)\u001b[0m\u001b[0;34m\u001b[0m\u001b[0m\n\u001b[0;32m---> 34\u001b[0;31m                     \u001b[0mden\u001b[0m\u001b[0;34m+=\u001b[0m\u001b[0mPFM_q\u001b[0m\u001b[0;34m.\u001b[0m\u001b[0miloc\u001b[0m\u001b[0;34m[\u001b[0m\u001b[0mch\u001b[0m\u001b[0;34m,\u001b[0m \u001b[0mx\u001b[0m\u001b[0;34m]\u001b[0m\u001b[0;34m+\u001b[0m\u001b[0mPFM_t\u001b[0m\u001b[0;34m.\u001b[0m\u001b[0miloc\u001b[0m\u001b[0;34m[\u001b[0m\u001b[0mch\u001b[0m\u001b[0;34m,\u001b[0m \u001b[0my\u001b[0m\u001b[0;34m]\u001b[0m\u001b[0;34m\u001b[0m\u001b[0m\n\u001b[0m\u001b[1;32m     35\u001b[0m                 \u001b[0mnum\u001b[0m\u001b[0;34m=\u001b[0m\u001b[0mtot_x\u001b[0m\u001b[0;34m+\u001b[0m\u001b[0mtot_y\u001b[0m\u001b[0;34m\u001b[0m\u001b[0m\n\u001b[1;32m     36\u001b[0m                 \u001b[0mallr_finestra\u001b[0m\u001b[0;34m+=\u001b[0m\u001b[0;34m(\u001b[0m\u001b[0mnum\u001b[0m\u001b[0;34m/\u001b[0m\u001b[0mden\u001b[0m\u001b[0;34m)\u001b[0m\u001b[0;34m\u001b[0m\u001b[0m\n",
      "\u001b[0;32m~/anaconda/envs/py36/lib/python3.6/site-packages/pandas/core/indexing.py\u001b[0m in \u001b[0;36m__getitem__\u001b[0;34m(self, key)\u001b[0m\n\u001b[1;32m   1362\u001b[0m             \u001b[0;32mtry\u001b[0m\u001b[0;34m:\u001b[0m\u001b[0;34m\u001b[0m\u001b[0m\n\u001b[1;32m   1363\u001b[0m                 \u001b[0;32mif\u001b[0m \u001b[0mself\u001b[0m\u001b[0;34m.\u001b[0m\u001b[0m_is_scalar_access\u001b[0m\u001b[0;34m(\u001b[0m\u001b[0mkey\u001b[0m\u001b[0;34m)\u001b[0m\u001b[0;34m:\u001b[0m\u001b[0;34m\u001b[0m\u001b[0m\n\u001b[0;32m-> 1364\u001b[0;31m                     \u001b[0;32mreturn\u001b[0m \u001b[0mself\u001b[0m\u001b[0;34m.\u001b[0m\u001b[0m_getitem_scalar\u001b[0m\u001b[0;34m(\u001b[0m\u001b[0mkey\u001b[0m\u001b[0;34m)\u001b[0m\u001b[0;34m\u001b[0m\u001b[0m\n\u001b[0m\u001b[1;32m   1365\u001b[0m             \u001b[0;32mexcept\u001b[0m \u001b[0;34m(\u001b[0m\u001b[0mKeyError\u001b[0m\u001b[0;34m,\u001b[0m \u001b[0mIndexError\u001b[0m\u001b[0;34m)\u001b[0m\u001b[0;34m:\u001b[0m\u001b[0;34m\u001b[0m\u001b[0m\n\u001b[1;32m   1366\u001b[0m                 \u001b[0;32mpass\u001b[0m\u001b[0;34m\u001b[0m\u001b[0m\n",
      "\u001b[0;32m~/anaconda/envs/py36/lib/python3.6/site-packages/pandas/core/indexing.py\u001b[0m in \u001b[0;36m_getitem_scalar\u001b[0;34m(self, key)\u001b[0m\n\u001b[1;32m   1702\u001b[0m         \u001b[0;31m# a fast-path to scalar access\u001b[0m\u001b[0;34m\u001b[0m\u001b[0;34m\u001b[0m\u001b[0m\n\u001b[1;32m   1703\u001b[0m         \u001b[0;31m# if not, raise\u001b[0m\u001b[0;34m\u001b[0m\u001b[0;34m\u001b[0m\u001b[0m\n\u001b[0;32m-> 1704\u001b[0;31m         \u001b[0mvalues\u001b[0m \u001b[0;34m=\u001b[0m \u001b[0mself\u001b[0m\u001b[0;34m.\u001b[0m\u001b[0mobj\u001b[0m\u001b[0;34m.\u001b[0m\u001b[0m_get_value\u001b[0m\u001b[0;34m(\u001b[0m\u001b[0;34m*\u001b[0m\u001b[0mkey\u001b[0m\u001b[0;34m,\u001b[0m \u001b[0mtakeable\u001b[0m\u001b[0;34m=\u001b[0m\u001b[0;32mTrue\u001b[0m\u001b[0;34m)\u001b[0m\u001b[0;34m\u001b[0m\u001b[0m\n\u001b[0m\u001b[1;32m   1705\u001b[0m         \u001b[0;32mreturn\u001b[0m \u001b[0mvalues\u001b[0m\u001b[0;34m\u001b[0m\u001b[0m\n\u001b[1;32m   1706\u001b[0m \u001b[0;34m\u001b[0m\u001b[0m\n",
      "\u001b[0;32m~/anaconda/envs/py36/lib/python3.6/site-packages/pandas/core/frame.py\u001b[0m in \u001b[0;36m_get_value\u001b[0;34m(self, index, col, takeable)\u001b[0m\n\u001b[1;32m   1976\u001b[0m \u001b[0;34m\u001b[0m\u001b[0m\n\u001b[1;32m   1977\u001b[0m         \u001b[0;32mif\u001b[0m \u001b[0mtakeable\u001b[0m\u001b[0;34m:\u001b[0m\u001b[0;34m\u001b[0m\u001b[0m\n\u001b[0;32m-> 1978\u001b[0;31m             \u001b[0mseries\u001b[0m \u001b[0;34m=\u001b[0m \u001b[0mself\u001b[0m\u001b[0;34m.\u001b[0m\u001b[0m_iget_item_cache\u001b[0m\u001b[0;34m(\u001b[0m\u001b[0mcol\u001b[0m\u001b[0;34m)\u001b[0m\u001b[0;34m\u001b[0m\u001b[0m\n\u001b[0m\u001b[1;32m   1979\u001b[0m             \u001b[0;32mreturn\u001b[0m \u001b[0m_maybe_box_datetimelike\u001b[0m\u001b[0;34m(\u001b[0m\u001b[0mseries\u001b[0m\u001b[0;34m.\u001b[0m\u001b[0m_values\u001b[0m\u001b[0;34m[\u001b[0m\u001b[0mindex\u001b[0m\u001b[0;34m]\u001b[0m\u001b[0;34m)\u001b[0m\u001b[0;34m\u001b[0m\u001b[0m\n\u001b[1;32m   1980\u001b[0m \u001b[0;34m\u001b[0m\u001b[0m\n",
      "\u001b[0;32m~/anaconda/envs/py36/lib/python3.6/site-packages/pandas/core/generic.py\u001b[0m in \u001b[0;36m_iget_item_cache\u001b[0;34m(self, item)\u001b[0m\n\u001b[1;32m   1864\u001b[0m         \u001b[0max\u001b[0m \u001b[0;34m=\u001b[0m \u001b[0mself\u001b[0m\u001b[0;34m.\u001b[0m\u001b[0m_info_axis\u001b[0m\u001b[0;34m\u001b[0m\u001b[0m\n\u001b[1;32m   1865\u001b[0m         \u001b[0;32mif\u001b[0m \u001b[0max\u001b[0m\u001b[0;34m.\u001b[0m\u001b[0mis_unique\u001b[0m\u001b[0;34m:\u001b[0m\u001b[0;34m\u001b[0m\u001b[0m\n\u001b[0;32m-> 1866\u001b[0;31m             \u001b[0mlower\u001b[0m \u001b[0;34m=\u001b[0m \u001b[0mself\u001b[0m\u001b[0;34m.\u001b[0m\u001b[0m_get_item_cache\u001b[0m\u001b[0;34m(\u001b[0m\u001b[0max\u001b[0m\u001b[0;34m[\u001b[0m\u001b[0mitem\u001b[0m\u001b[0;34m]\u001b[0m\u001b[0;34m)\u001b[0m\u001b[0;34m\u001b[0m\u001b[0m\n\u001b[0m\u001b[1;32m   1867\u001b[0m         \u001b[0;32melse\u001b[0m\u001b[0;34m:\u001b[0m\u001b[0;34m\u001b[0m\u001b[0m\n\u001b[1;32m   1868\u001b[0m             lower = self._take(item, axis=self._info_axis_number,\n",
      "\u001b[0;32m~/anaconda/envs/py36/lib/python3.6/site-packages/pandas/core/generic.py\u001b[0m in \u001b[0;36m_get_item_cache\u001b[0;34m(self, item)\u001b[0m\n\u001b[1;32m   1838\u001b[0m         \u001b[0;34m\"\"\"Return the cached item, item represents a label indexer.\"\"\"\u001b[0m\u001b[0;34m\u001b[0m\u001b[0m\n\u001b[1;32m   1839\u001b[0m         \u001b[0mcache\u001b[0m \u001b[0;34m=\u001b[0m \u001b[0mself\u001b[0m\u001b[0;34m.\u001b[0m\u001b[0m_item_cache\u001b[0m\u001b[0;34m\u001b[0m\u001b[0m\n\u001b[0;32m-> 1840\u001b[0;31m         \u001b[0mres\u001b[0m \u001b[0;34m=\u001b[0m \u001b[0mcache\u001b[0m\u001b[0;34m.\u001b[0m\u001b[0mget\u001b[0m\u001b[0;34m(\u001b[0m\u001b[0mitem\u001b[0m\u001b[0;34m)\u001b[0m\u001b[0;34m\u001b[0m\u001b[0m\n\u001b[0m\u001b[1;32m   1841\u001b[0m         \u001b[0;32mif\u001b[0m \u001b[0mres\u001b[0m \u001b[0;32mis\u001b[0m \u001b[0;32mNone\u001b[0m\u001b[0;34m:\u001b[0m\u001b[0;34m\u001b[0m\u001b[0m\n\u001b[1;32m   1842\u001b[0m             \u001b[0mvalues\u001b[0m \u001b[0;34m=\u001b[0m \u001b[0mself\u001b[0m\u001b[0;34m.\u001b[0m\u001b[0m_data\u001b[0m\u001b[0;34m.\u001b[0m\u001b[0mget\u001b[0m\u001b[0;34m(\u001b[0m\u001b[0mitem\u001b[0m\u001b[0;34m)\u001b[0m\u001b[0;34m\u001b[0m\u001b[0m\n",
      "\u001b[0;31mKeyboardInterrupt\u001b[0m: "
     ]
    }
   ],
   "source": [
    "d_ALLR_family={}\n",
    "for coppia in coppie:\n",
    "    print(coppia)\n",
    "    d_ALLR_family[coppia]=[]\n",
    "    \n",
    "    \n",
    "    PSSM_q=pd.DataFrame(PSSM_dic[coppia[0]])\n",
    "    PFM_q=pd.DataFrame(PFM_dic[coppia[0]])\n",
    "    \n",
    "    PSSM_t=pd.DataFrame(PSSM_dic[coppia[1]])\n",
    "    PFM_t=pd.DataFrame(PFM_dic[coppia[1]])\n",
    "\n",
    "    l_finestra=min(len(PSSM_q.columns.values),len(PSSM_t.columns.values))\n",
    "    diff=len(PSSM_q.columns.values)-len(PSSM_t.columns.values)\n",
    "    #print(diff)\n",
    "    \n",
    "    allr_fin=ALLR_fin(l_finestra, diff, PFM_q, PFM_t, PSSM_q, PSSM_t)\n",
    "    \n",
    "    d_ALLR_family[coppia]=allr_fin\n",
    "    print(allr_fin)"
   ]
  },
  {
   "cell_type": "code",
   "execution_count": null,
   "metadata": {
    "collapsed": true
   },
   "outputs": [],
   "source": []
  },
  {
   "cell_type": "code",
   "execution_count": null,
   "metadata": {
    "collapsed": true
   },
   "outputs": [],
   "source": []
  },
  {
   "cell_type": "code",
   "execution_count": null,
   "metadata": {
    "collapsed": true
   },
   "outputs": [],
   "source": []
  }
 ],
 "metadata": {
  "anaconda-cloud": {},
  "kernelspec": {
   "display_name": "Python [conda env:py36]",
   "language": "python",
   "name": "conda-env-py36-py"
  },
  "language_info": {
   "codemirror_mode": {
    "name": "ipython",
    "version": 3
   },
   "file_extension": ".py",
   "mimetype": "text/x-python",
   "name": "python",
   "nbconvert_exporter": "python",
   "pygments_lexer": "ipython3",
   "version": "3.6.4"
  }
 },
 "nbformat": 4,
 "nbformat_minor": 1
}
